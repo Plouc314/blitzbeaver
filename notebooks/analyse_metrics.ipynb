{
 "cells": [
  {
   "cell_type": "code",
   "execution_count": 55,
   "metadata": {},
   "outputs": [],
   "source": [
    "from typing import Callable\n",
    "\n",
    "import polars as pl\n",
    "import matplotlib.pyplot as plt\n",
    "import blitzbeaver as bb\n",
    "import json"
   ]
  },
  {
   "cell_type": "code",
   "execution_count": 3,
   "metadata": {},
   "outputs": [],
   "source": [
    "csv_path = \"../../aptihramy/data/csv_cleaned\"\n",
    "beaver_folder_path = \"../data/beaver_files\"\n",
    "json_folder_path = \"../data/json_files\""
   ]
  },
  {
   "cell_type": "code",
   "execution_count": 54,
   "metadata": {},
   "outputs": [],
   "source": [
    "class MetricsResult:\n",
    "    def __init__(\n",
    "        self,\n",
    "        verifier: dict[str, float],\n",
    "        memory_distance: dict[str, float],\n",
    "        start_years: list[int],\n",
    "        end_years: list[int],\n",
    "        chain_lengths: list[int],\n",
    "        avg_records_match: float,\n",
    "        avg_trackers_match: float,\n",
    "        histogram_records: list[int],\n",
    "        histogram_trackers: list[int],\n",
    "    ) -> None:\n",
    "        self.verifier = verifier\n",
    "        self.memory_distance = memory_distance\n",
    "        self.start_years = start_years\n",
    "        self.end_years = end_years\n",
    "        self.chain_lengths = chain_lengths\n",
    "        self.avg_records_match = avg_records_match\n",
    "        self.avg_trackers_match = avg_trackers_match\n",
    "        self.histogram_records = histogram_records\n",
    "        self.histogram_trackers = histogram_trackers\n",
    "\n",
    "\n",
    "class StatClass:\n",
    "    def __init__(\n",
    "        self,\n",
    "        name: str,\n",
    "        x: list[float],\n",
    "        y: list[float],\n",
    "        configs: list[bb.TrackingConfig],\n",
    "    ) -> None:\n",
    "        self.name = name\n",
    "        self.x = x\n",
    "        self.y = y\n",
    "        self.configs = configs"
   ]
  },
  {
   "cell_type": "code",
   "execution_count": 5,
   "metadata": {},
   "outputs": [],
   "source": [
    "def load_metrics_results(filename: str) -> list[tuple[bb.TrackingConfig, MetricsResult]]:\n",
    "    filepath = f\"{json_folder_path}/{filename}\"\n",
    "    with open(filepath, \"r\") as file:\n",
    "        data = json.load(file)\n",
    "    results = []\n",
    "    for raw in data:\n",
    "        config = bb.deserialize_tracking_config(raw[\"config\"])\n",
    "        data = raw[\"data\"]\n",
    "        metrics_result = MetricsResult(\n",
    "            verifier=data[\"verifier\"],\n",
    "            memory_distance=data[\"memory_distance\"],\n",
    "            start_years=data[\"start_years\"],\n",
    "            end_years=data[\"end_years\"],\n",
    "            chain_lengths=data[\"chain_lengths\"],\n",
    "            avg_records_match=data[\"avg_records_match\"],\n",
    "            avg_trackers_match=data[\"avg_trackers_match\"],\n",
    "            histogram_records=data[\"histogram_records\"],\n",
    "            histogram_trackers=data[\"histogram_trackers\"],\n",
    "        )\n",
    "        results.append((config, metrics_result))\n",
    "    \n",
    "    return results"
   ]
  },
  {
   "cell_type": "code",
   "execution_count": 17,
   "metadata": {},
   "outputs": [],
   "source": [
    "def histogram_mean(histogram: list[int]) -> float:\n",
    "    total = 0\n",
    "    for i, count in enumerate(histogram):\n",
    "        total += i * count\n",
    "    return total / sum(histogram)\n",
    "\n",
    "def histogram_median(histogram: list[int]) -> float:\n",
    "    n = sum(histogram)\n",
    "    half = n // 2\n",
    "    i = 0\n",
    "    while n > half:\n",
    "        n -= histogram[i]\n",
    "        i += 1\n",
    "    return i - 1"
   ]
  },
  {
   "cell_type": "code",
   "execution_count": 49,
   "metadata": {},
   "outputs": [],
   "source": [
    "results = load_metrics_results(\"chunk_0_49.json\")\n",
    "results += load_metrics_results(\"chunk_50_99.json\")"
   ]
  },
  {
   "cell_type": "code",
   "execution_count": 41,
   "metadata": {},
   "outputs": [],
   "source": [
    "r = results[3]"
   ]
  },
  {
   "cell_type": "code",
   "execution_count": 96,
   "metadata": {},
   "outputs": [],
   "source": [
    "def compute_stat_classes(\n",
    "    results: list[tuple[bb.TrackingConfig, MetricsResult]],\n",
    "    groupby: Callable[[bb.TrackingConfig], str],\n",
    "    max_x: int | None = None,\n",
    ") -> list[StatClass]:\n",
    "\n",
    "    groups: dict[str, StatClass] = {}\n",
    "\n",
    "    for result in results:\n",
    "        config = result[0]\n",
    "        metrics = result[1]\n",
    "        x = histogram_mean(metrics.histogram_records)\n",
    "        y = histogram_mean(metrics.chain_lengths)\n",
    "\n",
    "        if max_x is not None and x >= max_x:\n",
    "            continue\n",
    "\n",
    "        name = groupby(config)\n",
    "\n",
    "        if not name in groups:\n",
    "            groups[name] = StatClass(name, [], [], [])\n",
    "        group = groups[name]\n",
    "\n",
    "        group.x.append(x)\n",
    "        group.y.append(y)\n",
    "        group.configs.append(config)\n",
    "\n",
    "    return list(groups.values())\n",
    "\n",
    "def display_stat_classes(stat_classes: list[StatClass]) -> None:\n",
    "    plt.figure(figsize=(14, 10))\n",
    "    for stat_class in stat_classes:\n",
    "        plt.scatter(stat_class.x, stat_class.y, label=stat_class.name)\n",
    "    plt.legend()\n",
    "    plt.plot()"
   ]
  },
  {
   "cell_type": "code",
   "execution_count": 99,
   "metadata": {},
   "outputs": [],
   "source": [
    "classes = compute_stat_classes(\n",
    "    results,\n",
    "    lambda c: str(c.tracker.memories[0].memory_strategy),\n",
    "    max_x=100,\n",
    ")"
   ]
  },
  {
   "cell_type": "code",
   "execution_count": 100,
   "metadata": {},
   "outputs": [
    {
     "data": {
      "image/png": "[encoded data removed]",
      "text/plain": [
       "<Figure size 1400x1000 with 1 Axes>"
      ]
     },
     "metadata": {},
     "output_type": "display_data"
    }
   ],
   "source": [
    "display_stat_classes(classes)"
   ]
  },
  {
   "cell_type": "code",
   "execution_count": null,
   "metadata": {},
   "outputs": [],
   "source": []
  }
 ],
 "metadata": {
  "kernelspec": {
   "display_name": ".venv",
   "language": "python",
   "name": "python3"
  },
  "language_info": {
   "codemirror_mode": {
    "name": "ipython",
    "version": 3
   },
   "file_extension": ".py",
   "mimetype": "text/x-python",
   "name": "python",
   "nbconvert_exporter": "python",
   "pygments_lexer": "ipython3",
   "version": "3.11.10"
  }
 },
 "nbformat": 4,
 "nbformat_minor": 2
}
