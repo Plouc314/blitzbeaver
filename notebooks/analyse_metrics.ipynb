{
 "cells": [
  {
   "cell_type": "code",
   "execution_count": null,
   "metadata": {},
   "outputs": [],
   "source": [
    "from typing import Callable\n",
    "\n",
    "import polars as pl\n",
    "import matplotlib.pyplot as plt\n",
    "import blitzbeaver as bb\n",
    "import json"
   ]
  },
  {
   "cell_type": "code",
   "execution_count": null,
   "metadata": {},
   "outputs": [],
   "source": [
    "csv_path = \"../../aptihramy/data/csv_cleaned\"\n",
    "beaver_folder_path = \"../data/beaver_files\"\n",
    "json_folder_path = \"../data/json_files\""
   ]
  },
  {
   "cell_type": "code",
   "execution_count": null,
   "metadata": {},
   "outputs": [],
   "source": [
    "class MetricsResult:\n",
    "    def __init__(\n",
    "        self,\n",
    "        verifier: dict[str, float],\n",
    "        memory_distance: dict[str, float],\n",
    "        start_years: list[int],\n",
    "        end_years: list[int],\n",
    "        chain_lengths: list[int],\n",
    "        avg_records_match: float,\n",
    "        avg_trackers_match: float,\n",
    "        histogram_records: list[int],\n",
    "        histogram_trackers: list[int],\n",
    "    ) -> None:\n",
    "        self.verifier = verifier\n",
    "        self.memory_distance = memory_distance\n",
    "        self.start_years = start_years\n",
    "        self.end_years = end_years\n",
    "        self.chain_lengths = chain_lengths\n",
    "        self.avg_records_match = avg_records_match\n",
    "        self.avg_trackers_match = avg_trackers_match\n",
    "        self.histogram_records = histogram_records\n",
    "        self.histogram_trackers = histogram_trackers\n",
    "\n",
    "\n",
    "class StatClass:\n",
    "    def __init__(\n",
    "        self,\n",
    "        name: str,\n",
    "        x: list[float],\n",
    "        y: list[float],\n",
    "        configs: list[bb.TrackingConfig],\n",
    "    ) -> None:\n",
    "        self.name = name\n",
    "        self.x = x\n",
    "        self.y = y\n",
    "        self.configs = configs"
   ]
  },
  {
   "cell_type": "code",
   "execution_count": null,
   "metadata": {},
   "outputs": [],
   "source": [
    "def load_metrics_results(filename: str) -> list[tuple[bb.TrackingConfig, MetricsResult]]:\n",
    "    filepath = f\"{json_folder_path}/{filename}\"\n",
    "    with open(filepath, \"r\") as file:\n",
    "        data = json.load(file)\n",
    "    results = []\n",
    "    for raw in data:\n",
    "        config = bb.deserialize_tracking_config(raw[\"config\"])\n",
    "        data = raw[\"data\"]\n",
    "        metrics_result = MetricsResult(\n",
    "            verifier=data[\"verifier\"],\n",
    "            memory_distance=data[\"memory_distance\"],\n",
    "            start_years=data[\"start_years\"],\n",
    "            end_years=data[\"end_years\"],\n",
    "            chain_lengths=data[\"chain_lengths\"],\n",
    "            avg_records_match=data[\"avg_records_match\"],\n",
    "            avg_trackers_match=data[\"avg_trackers_match\"],\n",
    "            histogram_records=data[\"histogram_records\"],\n",
    "            histogram_trackers=data[\"histogram_trackers\"],\n",
    "        )\n",
    "        results.append((config, metrics_result))\n",
    "    \n",
    "    return results"
   ]
  },
  {
   "cell_type": "code",
   "execution_count": null,
   "metadata": {},
   "outputs": [],
   "source": [
    "def histogram_mean(histogram: list[int]) -> float:\n",
    "    total = 0\n",
    "    for i, count in enumerate(histogram):\n",
    "        total += i * count\n",
    "    return total / sum(histogram)\n",
    "\n",
    "def histogram_median(histogram: list[int]) -> float:\n",
    "    n = sum(histogram)\n",
    "    half = n // 2\n",
    "    i = 0\n",
    "    while n > half:\n",
    "        n -= histogram[i]\n",
    "        i += 1\n",
    "    return i - 1"
   ]
  },
  {
   "cell_type": "code",
   "execution_count": null,
   "metadata": {},
   "outputs": [],
   "source": [
    "results = load_metrics_results(\"chunk_0_49.json\")\n",
    "results += load_metrics_results(\"chunk_50_99.json\")\n",
    "results += load_metrics_results(\"chunk_100_199.json\")\n",
    "results += load_metrics_results(\"chunk_200_299.json\")\n",
    "results += load_metrics_results(\"chunk_300_399.json\")\n",
    "results += load_metrics_results(\"chunk_400_499.json\")\n",
    "results += load_metrics_results(\"chunk_500_599.json\")\n",
    "results += load_metrics_results(\"chunk_600_699.json\")\n",
    "results += load_metrics_results(\"chunk_700_799.json\")\n",
    "results += load_metrics_results(\"chunk_800_899.json\")\n",
    "results += load_metrics_results(\"chunk_900_999.json\")\n",
    "results += load_metrics_results(\"chunk_1000_1099.json\")\n",
    "results += load_metrics_results(\"chunk_1100_1199.json\")\n",
    "results += load_metrics_results(\"chunk_1200_1249.json\")\n",
    "results += load_metrics_results(\"chunk_1250_1299.json\")\n",
    "results += load_metrics_results(\"chunk_1300_1349.json\")\n",
    "results += load_metrics_results(\"chunk_1350_1399.json\")\n",
    "results += load_metrics_results(\"chunk_1400_1499.json\")\n",
    "results += load_metrics_results(\"chunk_1500_1599.json\")\n",
    "results += load_metrics_results(\"chunk_1600_1749.json\")\n",
    "results += load_metrics_results(\"chunk_1750_1799.json\")\n",
    "results += load_metrics_results(\"chunk_1800_1999.json\")\n",
    "results += load_metrics_results(\"chunk_2000_2199.json\")\n",
    "results += load_metrics_results(\"chunk_2200_2349.json\")\n",
    "results += load_metrics_results(\"chunk_2350_2399.json\")"
   ]
  },
  {
   "cell_type": "code",
   "execution_count": null,
   "metadata": {},
   "outputs": [],
   "source": [
    "def compute_stat_classes(\n",
    "    results: list[tuple[bb.TrackingConfig, MetricsResult]],\n",
    "    groupby: Callable[[bb.TrackingConfig], str],\n",
    "    max_x: int | None = None,\n",
    ") -> list[StatClass]:\n",
    "\n",
    "    groups: dict[str, StatClass] = {}\n",
    "\n",
    "    for result in results:\n",
    "        config = result[0]\n",
    "        metrics = result[1]\n",
    "        x = histogram_mean(metrics.histogram_records)\n",
    "        y = histogram_mean(metrics.chain_lengths)\n",
    "\n",
    "        if max_x is not None and x >= max_x:\n",
    "            continue\n",
    "\n",
    "        name = groupby(config)\n",
    "\n",
    "        if not name in groups:\n",
    "            groups[name] = StatClass(name, [], [], [])\n",
    "        group = groups[name]\n",
    "\n",
    "        group.x.append(x)\n",
    "        group.y.append(y)\n",
    "        group.configs.append(config)\n",
    "\n",
    "    return list(groups.values())\n",
    "\n",
    "def display_stat_classes(stat_classes: list[StatClass]) -> None:\n",
    "    plt.figure(figsize=(14, 10))\n",
    "    for stat_class in stat_classes:\n",
    "        plt.scatter(stat_class.x, stat_class.y, label=stat_class.name, alpha=0.6)\n",
    "    plt.legend()\n",
    "    plt.plot()"
   ]
  },
  {
   "cell_type": "code",
   "execution_count": null,
   "metadata": {},
   "outputs": [],
   "source": [
    "groupby_threshold = lambda c: str(c.tracker.interest_threshold)\n",
    "groupby_lv_substring = lambda c: str(c.distance_metric.lv_substring_weight if c.distance_metric.lv_substring_weight else \"other\")\n",
    "groupby_weights = lambda c: sum(c.tracker.record_scorer.weights) if c.tracker.record_scorer.weights else \"average\"\n",
    "groupby_memory = lambda c: str(c.tracker.memories[0].memory_strategy)\n",
    "groupby_min_weight_ratio = lambda c: str(c.tracker.record_scorer.min_weight_ratio) if c.tracker.record_scorer.min_weight_ratio else \"1.0\""
   ]
  },
  {
   "cell_type": "code",
   "execution_count": null,
   "metadata": {},
   "outputs": [],
   "source": [
    "classes = compute_stat_classes(\n",
    "    results,\n",
    "    groupby=groupby_lv_substring,\n",
    "    max_x=2,\n",
    ")"
   ]
  },
  {
   "cell_type": "code",
   "execution_count": null,
   "metadata": {},
   "outputs": [],
   "source": [
    "display_stat_classes(classes)"
   ]
  },
  {
   "cell_type": "code",
   "execution_count": null,
   "metadata": {},
   "outputs": [],
   "source": [
    "def find_datapoints(\n",
    "        classes: list[StatClass],\n",
    "        x_range: tuple[float, float],\n",
    "        y_range: tuple[float, float],\n",
    ") -> list[tuple[float, float, bb.TrackingConfig]]:\n",
    "    configs = []\n",
    "    for stat_class in classes:\n",
    "        for x, y, config in zip(stat_class.x, stat_class.y, stat_class.configs):\n",
    "            if x_range[0] <= x <= x_range[1] and y_range[0] <= y <= y_range[1]:\n",
    "                configs.append((x, y, config))\n",
    "    return configs"
   ]
  },
  {
   "cell_type": "code",
   "execution_count": null,
   "metadata": {},
   "outputs": [],
   "source": [
    "dps = find_datapoints(\n",
    "    classes,\n",
    "    x_range=(1.25, 1.5),\n",
    "    y_range=(2.55, 10.0),\n",
    ")"
   ]
  },
  {
   "cell_type": "code",
   "execution_count": null,
   "metadata": {},
   "outputs": [],
   "source": [
    "dps"
   ]
  },
  {
   "cell_type": "code",
   "execution_count": null,
   "metadata": {},
   "outputs": [],
   "source": [
    "config = dps[-1][2]"
   ]
  },
  {
   "cell_type": "code",
   "execution_count": null,
   "metadata": {},
   "outputs": [],
   "source": [
    "bb.serialize_tracking_config(config)"
   ]
  },
  {
   "cell_type": "code",
   "execution_count": null,
   "metadata": {},
   "outputs": [],
   "source": []
  }
 ],
 "metadata": {
  "kernelspec": {
   "display_name": ".venv",
   "language": "python",
   "name": "python3"
  },
  "language_info": {
   "codemirror_mode": {
    "name": "ipython",
    "version": 3
   },
   "file_extension": ".py",
   "mimetype": "text/x-python",
   "name": "python",
   "nbconvert_exporter": "python",
   "pygments_lexer": "ipython3",
   "version": "3.11.11"
  }
 },
 "nbformat": 4,
 "nbformat_minor": 2
}
