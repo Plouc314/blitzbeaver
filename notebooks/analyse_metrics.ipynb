{
 "cells": [
  {
   "cell_type": "code",
   "execution_count": 1,
   "metadata": {},
   "outputs": [],
   "source": [
    "import polars as pl\n",
    "import matplotlib.pyplot as plt\n",
    "import blitzbeaver as bb\n",
    "import random\n",
    "from typing import Any\n",
    "import json"
   ]
  },
  {
   "cell_type": "code",
   "execution_count": 2,
   "metadata": {},
   "outputs": [],
   "source": [
    "csv_path = \"../../aptihramy/data/csv_cleaned\"\n",
    "beaver_folder_path = \"../data/beaver_files\"\n",
    "json_folder_path = \"../data/json_files\""
   ]
  },
  {
   "cell_type": "code",
   "execution_count": 3,
   "metadata": {},
   "outputs": [],
   "source": [
    "class MetricsResult:\n",
    "    def __init__(\n",
    "        self,\n",
    "        verifier: dict[str, float],\n",
    "        memory_distance: dict[str, float],\n",
    "        start_years: list[int],\n",
    "        end_years: list[int],\n",
    "        chain_lengths: list[int],\n",
    "        avg_records_match: float,\n",
    "        avg_trackers_match: float,\n",
    "        histogram_records: list[int],\n",
    "        histogram_trackers: list[int],\n",
    "    ) -> None:\n",
    "        self.verifier = verifier\n",
    "        self.memory_distance = memory_distance\n",
    "        self.start_years = start_years\n",
    "        self.end_years = end_years\n",
    "        self.chain_lengths = chain_lengths\n",
    "        self.avg_records_match = avg_records_match\n",
    "        self.avg_trackers_match = avg_trackers_match\n",
    "        self.histogram_records = histogram_records\n",
    "        self.histogram_trackers = histogram_trackers"
   ]
  },
  {
   "cell_type": "code",
   "execution_count": 4,
   "metadata": {},
   "outputs": [],
   "source": [
    "def load_metrics_results(filename: str) -> list[tuple[bb.TrackingConfig, MetricsResult]]:\n",
    "    filepath = f\"{json_folder_path}/{filename}\"\n",
    "    with open(filepath, \"r\") as file:\n",
    "        data = json.load(file)\n",
    "    results = []\n",
    "    for raw in data:\n",
    "        config = bb.deserialize_tracking_config(raw[\"config\"])\n",
    "        data = raw[\"data\"]\n",
    "        metrics_result = MetricsResult(\n",
    "            verifier=data[\"verifier\"],\n",
    "            memory_distance=data[\"memory_distance\"],\n",
    "            start_years=data[\"start_years\"],\n",
    "            end_years=data[\"end_years\"],\n",
    "            chain_lengths=data[\"chain_lengths\"],\n",
    "            avg_records_match=data[\"avg_records_match\"],\n",
    "            avg_trackers_match=data[\"avg_trackers_match\"],\n",
    "            histogram_records=data[\"histogram_records\"],\n",
    "            histogram_trackers=data[\"histogram_trackers\"],\n",
    "        )\n",
    "        results.append((config, metrics_result))\n",
    "    \n",
    "    return results"
   ]
  },
  {
   "cell_type": "code",
   "execution_count": 5,
   "metadata": {},
   "outputs": [],
   "source": [
    "results = load_metrics_results(\"chunk_0_49.json\")"
   ]
  },
  {
   "cell_type": "code",
   "execution_count": 6,
   "metadata": {},
   "outputs": [
    {
     "data": {
      "text/plain": [
       "50"
      ]
     },
     "execution_count": 6,
     "metadata": {},
     "output_type": "execute_result"
    }
   ],
   "source": [
    "len(results)"
   ]
  },
  {
   "cell_type": "code",
   "execution_count": null,
   "metadata": {},
   "outputs": [],
   "source": []
  }
 ],
 "metadata": {
  "kernelspec": {
   "display_name": ".venv",
   "language": "python",
   "name": "python3"
  },
  "language_info": {
   "codemirror_mode": {
    "name": "ipython",
    "version": 3
   },
   "file_extension": ".py",
   "mimetype": "text/x-python",
   "name": "python",
   "nbconvert_exporter": "python",
   "pygments_lexer": "ipython3",
   "version": "3.11.11"
  }
 },
 "nbformat": 4,
 "nbformat_minor": 2
}
