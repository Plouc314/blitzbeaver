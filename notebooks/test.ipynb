{
 "cells": [
  {
   "cell_type": "code",
   "execution_count": 1,
   "metadata": {},
   "outputs": [
    {
     "data": {
      "text/plain": [
       "polars.config.Config"
      ]
     },
     "execution_count": 1,
     "metadata": {},
     "output_type": "execute_result"
    }
   ],
   "source": [
    "import polars as pl\n",
    "import matplotlib.pyplot as plt\n",
    "import blitzbeaver as bb\n",
    "\n",
    "pl.Config.set_tbl_rows(-1)"
   ]
  },
  {
   "cell_type": "code",
   "execution_count": 2,
   "metadata": {},
   "outputs": [],
   "source": [
    "csv_path = \"../../aptihramy/data/csv_cleaned\"\n",
    "\n",
    "start_year = 1835\n",
    "end_year = 1892\n",
    "\n",
    "dataframes = [\n",
    "    pl.read_csv(f\"{csv_path}/{year}.csv\", infer_schema_length=10000)\n",
    "    for year in range(start_year, end_year + 1)\n",
    "]"
   ]
  },
  {
   "cell_type": "code",
   "execution_count": 3,
   "metadata": {},
   "outputs": [],
   "source": [
    "# we need to cap the string values to a maximum of 256 characters\n",
    "# to avoid issues in the computation of the levenshtein distance\n",
    "\n",
    "for i in range(len(dataframes)):\n",
    "    df = dataframes[i]\n",
    "    dataframes[i] = df.with_columns(\n",
    "        df[\"enfants_chez_parents_prenom\"]\n",
    "        .str.split(\"|\")\n",
    "        .list.eval(pl.element().filter(pl.element() != \"\").slice(0, 256))\n",
    "        .alias(\"enfants_chez_parents_prenom\"),\n",
    "        df[\"nom_rue\"].str.slice(0, 256).alias(\"nom_rue\"),\n",
    "        df[\"chef_prenom\"].str.slice(0, 256).alias(\"chef_prenom\"),\n",
    "        df[\"chef_nom\"].str.slice(0, 256).alias(\"chef_nom\"),\n",
    "        df[\"chef_origine\"].str.slice(0, 256).alias(\"chef_origine\"),\n",
    "        df[\"epouse_nom\"].str.slice(0, 256).alias(\"epouse_nom\"),\n",
    "        df[\"chef_vocation\"].str.slice(0, 256).alias(\"chef_vocation\"),\n",
    "    )"
   ]
  },
  {
   "cell_type": "code",
   "execution_count": 4,
   "metadata": {},
   "outputs": [],
   "source": [
    "# load the graph from a .beaver file\n",
    "path_graph = \"../graph_whole.beaver\"\n",
    "\n",
    "graph = bb.read_beaver(path_graph)"
   ]
  },
  {
   "cell_type": "code",
   "execution_count": 5,
   "metadata": {},
   "outputs": [],
   "source": [
    "record_schema = bb.RecordSchema(\n",
    "    [\n",
    "        bb.FieldSchema(\"nom_rue\", bb.ElementType.String),\n",
    "        bb.FieldSchema(\"chef_prenom\", bb.ElementType.String),\n",
    "        bb.FieldSchema(\"chef_nom\", bb.ElementType.String),\n",
    "        bb.FieldSchema(\"chef_origine\", bb.ElementType.String),\n",
    "        bb.FieldSchema(\"epouse_nom\", bb.ElementType.String),\n",
    "        bb.FieldSchema(\"chef_vocation\", bb.ElementType.String),\n",
    "        bb.FieldSchema(\"enfants_chez_parents_prenom\", bb.ElementType.MultiStrings),\n",
    "    ]\n",
    ")"
   ]
  },
  {
   "cell_type": "code",
   "execution_count": 6,
   "metadata": {},
   "outputs": [],
   "source": [
    "distance_metric_config = bb.DistanceMetricConfig(\n",
    "    metric=\"lv_opti\",\n",
    "    caching_threshold=4,\n",
    "    use_sigmoid=False,\n",
    "    lv_substring_weight=0.5,\n",
    ")\n",
    "normal_memory_config = bb.MemoryConfig(\n",
    "    memory_strategy=\"median\",\n",
    ")\n",
    "multi_memory_config = bb.MemoryConfig(\n",
    "    memory_strategy=\"mw-median\",\n",
    "    multiword_threshold_match=0.6,\n",
    "    multiword_distance_metric=distance_metric_config,\n",
    ")\n",
    "\n",
    "config = bb.config(\n",
    "    record_schema=record_schema,\n",
    "    distance_metric_config=distance_metric_config,\n",
    "    record_scorer_config=bb.RecordScorerConfig(\n",
    "        record_scorer=\"average\",\n",
    "        weights=None,\n",
    "        min_weight_ratio=None\n",
    "    ),\n",
    "    resolver_config=bb.ResolverConfig(\n",
    "        resolving_strategy=\"best-match\",\n",
    "    ),\n",
    "    memory_config=normal_memory_config,\n",
    "    multistring_memory_config=multi_memory_config,\n",
    "    interest_threshold=0.6,\n",
    "    limit_no_match_streak=3,\n",
    "    num_threads=10,\n",
    ")"
   ]
  },
  {
   "cell_type": "code",
   "execution_count": 7,
   "metadata": {},
   "outputs": [],
   "source": [
    "config = bb.deserialize_tracking_config(\n",
    "    {\n",
    "        \"num_threads\": 17,\n",
    "        \"tracker\": {\n",
    "            \"interest_threshold\": 0.800000011920929,\n",
    "            \"limit_no_match_streak\": 4,\n",
    "            \"record_scorer\": {\n",
    "                \"record_scorer\": \"weighted-average\",\n",
    "                \"weights\": [\n",
    "                    0.10000000149011612,\n",
    "                    0.30000001192092896,\n",
    "                    0.30000001192092896,\n",
    "                    0.30000001192092896,\n",
    "                    0.10000000149011612,\n",
    "                    0.10000000149011612,\n",
    "                    0.10000000149011612,\n",
    "                ],\n",
    "                \"min_weight_ratio\": 0.6000000238418579,\n",
    "            },\n",
    "            \"memories\": [\n",
    "                {\n",
    "                    \"memory_strategy\": \"ls-median\",\n",
    "                    \"multiword_threshold_match\": None,\n",
    "                    \"multiword_distance_metric\": None,\n",
    "                },\n",
    "                {\n",
    "                    \"memory_strategy\": \"ls-median\",\n",
    "                    \"multiword_threshold_match\": None,\n",
    "                    \"multiword_distance_metric\": None,\n",
    "                },\n",
    "                {\n",
    "                    \"memory_strategy\": \"ls-median\",\n",
    "                    \"multiword_threshold_match\": None,\n",
    "                    \"multiword_distance_metric\": None,\n",
    "                },\n",
    "                {\n",
    "                    \"memory_strategy\": \"ls-median\",\n",
    "                    \"multiword_threshold_match\": None,\n",
    "                    \"multiword_distance_metric\": None,\n",
    "                },\n",
    "                {\n",
    "                    \"memory_strategy\": \"ls-median\",\n",
    "                    \"multiword_threshold_match\": None,\n",
    "                    \"multiword_distance_metric\": None,\n",
    "                },\n",
    "                {\n",
    "                    \"memory_strategy\": \"ls-median\",\n",
    "                    \"multiword_threshold_match\": None,\n",
    "                    \"multiword_distance_metric\": None,\n",
    "                },\n",
    "                {\n",
    "                    \"memory_strategy\": \"mw-median\",\n",
    "                    \"multiword_threshold_match\": 0.800000011920929,\n",
    "                    \"multiword_distance_metric\": {\n",
    "                        \"metric\": \"lv_opti\",\n",
    "                        \"caching_threshold\": 4,\n",
    "                        \"use_sigmoid\": False,\n",
    "                        \"lv_edit_weights\": None,\n",
    "                        \"lv_substring_weight\": None,\n",
    "                        \"lv_multiword_separator\": None,\n",
    "                    },\n",
    "                },\n",
    "            ],\n",
    "        },\n",
    "        \"distance_metric\": {\n",
    "            \"metric\": \"lv_substring\",\n",
    "            \"caching_threshold\": 4,\n",
    "            \"use_sigmoid\": False,\n",
    "            \"lv_edit_weights\": None,\n",
    "            \"lv_substring_weight\": 0.6000000238418579,\n",
    "            \"lv_multiword_separator\": None,\n",
    "        },\n",
    "        \"resolver\": {\"resolving_strategy\": \"best-match\"},\n",
    "    }\n",
    ")"
   ]
  },
  {
   "cell_type": "code",
   "execution_count": null,
   "metadata": {},
   "outputs": [],
   "source": [
    "# compute the graph\n",
    "graph = bb.execute_tracking(config, record_schema, dataframes, \"debug\")"
   ]
  },
  {
   "cell_type": "code",
   "execution_count": 8,
   "metadata": {},
   "outputs": [
    {
     "name": "stdout",
     "output_type": "stream",
     "text": [
      "Number of chains: 89950\n",
      "Percentage of matching records: 72.59%\n",
      "Percentage of matching trackers: 86.11%\n",
      "Percentage of divergences: 15.53%\n",
      "Percentage of conflicts: 26.33%\n"
     ]
    },
    {
     "data": {
      "image/png": "[encoded data removed]",
      "text/plain": [
       "<Figure size 640x480 with 1 Axes>"
      ]
     },
     "metadata": {},
     "output_type": "display_data"
    },
    {
     "data": {
      "image/png": "[encoded data removed]",
      "text/plain": [
       "<Figure size 640x480 with 1 Axes>"
      ]
     },
     "metadata": {},
     "output_type": "display_data"
    },
    {
     "data": {
      "image/png": "[encoded data removed]",
      "text/plain": [
       "<Figure size 640x480 with 1 Axes>"
      ]
     },
     "metadata": {},
     "output_type": "display_data"
    }
   ],
   "source": [
    "def aggregate_histograms(histograms: list[list[int]]) -> list[int]:\n",
    "    \"\"\"\n",
    "    Aggregates a list of histograms into a single histogram.\n",
    "    \"\"\"\n",
    "    max_len = max([len(h) for h in histograms])\n",
    "    result = [0] * max_len\n",
    "    for h in histograms:\n",
    "        for i, v in enumerate(h):\n",
    "            result[i] += v\n",
    "    return result\n",
    "\n",
    "def summary_graph(graph: bb.TrackingGraph):\n",
    "\n",
    "    # compute the sum of the histograms for all frames\n",
    "    histogram_records = aggregate_histograms([resolving.histogram_record_matchs for resolving in graph.diagnostics.resolvings])\n",
    "    # do not show beyond 10 elements as the counts are very low\n",
    "    histogram_records = histogram_records\n",
    "    histogram_trackers = aggregate_histograms([resolving.histogram_tracker_matchs for resolving in graph.diagnostics.resolvings])\n",
    "    histogram_trackers = histogram_trackers[:10]\n",
    "\n",
    "    chain_metrics = bb.evaluate_tracking_chain_length(graph._raw)\n",
    "    graph_metrics = bb.evaluate_tracking_graph_properties(graph._raw)\n",
    "        \n",
    "    records_match_ratios = graph_metrics.records_match_ratios[1:]\n",
    "    trackers_match_ratios = graph_metrics.trackers_match_ratios[1:-1]\n",
    "    avg_records_match = sum(records_match_ratios) / len(records_match_ratios)\n",
    "    avg_trackers_match = sum(trackers_match_ratios) / len(trackers_match_ratios)\n",
    "\n",
    "    per_divergence = sum(histogram_trackers[2:]) / sum(histogram_trackers[1:])\n",
    "    per_conflict = sum(histogram_records[2:]) / sum(histogram_records[1:])\n",
    "\n",
    "    # total number of trackers created\n",
    "    print(f\"Number of chains: {len(graph.trackers_ids)}\")\n",
    "    # average percentage of records that have been match with an existing tracker\n",
    "    print(f\"Percentage of matching records: {avg_records_match*100:.2f}%\")\n",
    "    # average percentage of trackers that have match with a record of the current frame\n",
    "    print(f\"Percentage of matching trackers: {avg_trackers_match*100:.2f}%\")\n",
    "    # number of times a tracker matched with more that one record\n",
    "    # divided by the number of times a tracker matched with a record\n",
    "    print(f\"Percentage of divergences: {per_divergence*100:.2f}%\")\n",
    "    # number of times a record matched with multiple trackers\n",
    "    # divided by the number of times a record matched with a tracker\n",
    "    print(f\"Percentage of conflicts: {per_conflict*100:.2f}%\")\n",
    "\n",
    "    plt.bar(range(1, len(chain_metrics.histogram)), chain_metrics.histogram[1:])\n",
    "    plt.title(\"Histogram of tracking chain lengths\")\n",
    "    plt.show()\n",
    "\n",
    "    plt.bar(range(len(histogram_records)), histogram_records)\n",
    "    plt.title(\"Histogram of # matchs per record\")\n",
    "    plt.show()\n",
    "\n",
    "    plt.bar(range(len(histogram_trackers)), histogram_trackers)\n",
    "    plt.title(\"Histogram of # matchs per tracker\")\n",
    "    plt.show()\n",
    "    \n",
    "summary_graph(graph)"
   ]
  },
  {
   "cell_type": "code",
   "execution_count": null,
   "metadata": {},
   "outputs": [],
   "source": [
    "path_graph = \"../graph.beaver\"\n",
    "\n",
    "bb.save_beaver(path_graph, graph)"
   ]
  },
  {
   "cell_type": "code",
   "execution_count": 9,
   "metadata": {},
   "outputs": [],
   "source": [
    "normalization_config = bb.NormalizationConfig(\n",
    "    threshold_cluster_match=0.5,\n",
    "    min_cluster_size=2,\n",
    "    distance_metric=config.distance_metric,\n",
    ")"
   ]
  },
  {
   "cell_type": "code",
   "execution_count": 10,
   "metadata": {},
   "outputs": [],
   "source": [
    "normalized_dfs = bb.execute_normalization(\n",
    "    normalization_config,\n",
    "    record_schema,\n",
    "    graph,\n",
    "    dataframes,\n",
    ")"
   ]
  },
  {
   "cell_type": "code",
   "execution_count": 11,
   "metadata": {},
   "outputs": [],
   "source": [
    "def find_chain_with_length(graph: bb.TrackingGraph, start_idx: int, length: int) -> None:\n",
    "    idx = start_idx\n",
    "    while idx < len(graph.trackers_ids):\n",
    "        tracker_id = graph.trackers_ids[idx]\n",
    "        chain = graph._raw.get_tracking_chain(tracker_id)\n",
    "        if len(chain) >= length:\n",
    "            return tracker_id\n",
    "        idx += 1\n",
    "    return None"
   ]
  },
  {
   "cell_type": "code",
   "execution_count": 38,
   "metadata": {},
   "outputs": [
    {
     "data": {
      "text/html": [
       "<div><style>\n",
       ".dataframe > thead > tr,\n",
       ".dataframe > tbody > tr {\n",
       "  text-align: right;\n",
       "  white-space: pre-wrap;\n",
       "}\n",
       "</style>\n",
       "<small>shape: (14, 8)</small><table border=\"1\" class=\"dataframe\"><thead><tr><th>frame_idx</th><th>nom_rue</th><th>chef_prenom</th><th>chef_nom</th><th>chef_origine</th><th>epouse_nom</th><th>chef_vocation</th><th>enfants_chez_parents_prenom</th></tr><tr><td>i64</td><td>str</td><td>str</td><td>str</td><td>str</td><td>str</td><td>str</td><td>list[str]</td></tr></thead><tbody><tr><td>5</td><td>&quot;cour&quot;</td><td>&quot;louis|louis&quot;</td><td>&quot;combernoux&quot;</td><td>&quot;corporation&quot;</td><td>&quot;louise panchaud&quot;</td><td>&quot;jardinier&quot;</td><td>null</td></tr><tr><td>6</td><td>&quot;fabrique&quot;</td><td>&quot;louis&quot;</td><td>&quot;combernoud&quot;</td><td>&quot;corporation&quot;</td><td>&quot;louise panchaud .&quot;</td><td>&quot;jardinier&quot;</td><td>[&quot;henriette&quot;]</td></tr><tr><td>7</td><td>&quot;cours&quot;</td><td>&quot;louis&quot;</td><td>&quot;combernous&quot;</td><td>&quot;corgoration&quot;</td><td>&quot;lse panchaud&quot;</td><td>&quot;jardinier&quot;</td><td>[&quot;henriette&quot;, &quot;marie&quot;]</td></tr><tr><td>9</td><td>&quot;cour&quot;</td><td>&quot;louis&quot;</td><td>&quot;combernous&quot;</td><td>&quot;corpn fse&quot;</td><td>&quot;lse panchaud&quot;</td><td>&quot;jardinier&quot;</td><td>[&quot;henriette&quot;, &quot;marie&quot;, &quot;samuel&quot;]</td></tr><tr><td>10</td><td>&quot;cour&quot;</td><td>&quot;louis&quot;</td><td>&quot;combernous&quot;</td><td>&quot;corporation&quot;</td><td>&quot;lse panchaud&quot;</td><td>&quot;jardinier&quot;</td><td>[&quot;henriette&quot;, &quot;marie&quot;, &quot;samuel&quot;]</td></tr><tr><td>11</td><td>&quot;cour&quot;</td><td>&quot;louis&quot;</td><td>&quot;combernous&quot;</td><td>&quot;conpn fse&quot;</td><td>&quot;lse panchaud&quot;</td><td>null</td><td>[&quot;henriette&quot;, &quot;marie&quot;, &quot;samuel&quot;]</td></tr><tr><td>13</td><td>&quot;cour bellerive&quot;</td><td>&quot;louis&quot;</td><td>&quot;combernous&quot;</td><td>&quot;corpn fse&quot;</td><td>&quot;lse panchaud&quot;</td><td>&quot;jardinier&quot;</td><td>[&quot;henriette&quot;, &quot;marie&quot;, … &quot;louise&quot;]</td></tr><tr><td>14</td><td>&quot;cour&quot;</td><td>&quot;louis&quot;</td><td>&quot;combernous&quot;</td><td>&quot;copple&quot;</td><td>&quot;ls panchaud|&quot;</td><td>&quot;jardinier&quot;</td><td>[&quot;henriette&nbsp;&nbsp;marie&nbsp;&nbsp;samuel&quot;]</td></tr><tr><td>15</td><td>&quot;cour&quot;</td><td>&quot;louis&quot;</td><td>&quot;combernous&quot;</td><td>&quot;corp&quot;</td><td>&quot;le panchaud&quot;</td><td>&quot;jardinier&quot;</td><td>null</td></tr><tr><td>16</td><td>&quot;cour&quot;</td><td>&quot;louis&quot;</td><td>&quot;combernoux&quot;</td><td>&quot;corpste&quot;</td><td>&quot;lse panchaud&quot;</td><td>&quot;jardinier&quot;</td><td>[&quot;henriette&quot;, &quot;marie&quot;, … &quot;charles&quot;]</td></tr><tr><td>17</td><td>&quot;cour beauregard&quot;</td><td>&quot;louis&quot;</td><td>&quot;combernoux&quot;</td><td>&quot;corp fse&quot;</td><td>&quot;lse panchaud&quot;</td><td>null</td><td>[&quot;henriette&quot;, &quot;marie&quot;, … &quot;charles&quot;]</td></tr><tr><td>18</td><td>&quot;lour&quot;</td><td>&quot;louis&quot;</td><td>&quot;combernoux&quot;</td><td>&quot;etson fcaise&quot;</td><td>&quot;vse panchaud&quot;</td><td>&quot;journalier&quot;</td><td>[&quot;henriette&quot;, &quot;marie&quot;, … &quot;louis&quot;]</td></tr><tr><td>19</td><td>&quot;cour bellerive&quot;</td><td>&quot;louis&quot;</td><td>&quot;combernous&quot;</td><td>&quot;corporation&quot;</td><td>&quot;lse panchaud&quot;</td><td>&quot;jardinier&quot;</td><td>[&quot;henriette&quot;, &quot;marie&quot;, … &quot;louis&quot;]</td></tr><tr><td>22</td><td>&quot;cour&quot;</td><td>&quot;louis&quot;</td><td>&quot;combernoux&quot;</td><td>&quot;corporation&quot;</td><td>&quot;pt panchaud&quot;</td><td>&quot;jardinier&quot;</td><td>[&quot;marie&quot;, &quot;samuel&quot;, … &quot;jenny&quot;]</td></tr></tbody></table></div>"
      ],
      "text/plain": [
       "shape: (14, 8)\n",
       "┌───────────┬────────────┬────────────┬────────────┬───────────┬───────────┬───────────┬───────────┐\n",
       "│ frame_idx ┆ nom_rue    ┆ chef_preno ┆ chef_nom   ┆ chef_orig ┆ epouse_no ┆ chef_voca ┆ enfants_c │\n",
       "│ ---       ┆ ---        ┆ m          ┆ ---        ┆ ine       ┆ m         ┆ tion      ┆ hez_paren │\n",
       "│ i64       ┆ str        ┆ ---        ┆ str        ┆ ---       ┆ ---       ┆ ---       ┆ ts_prenom │\n",
       "│           ┆            ┆ str        ┆            ┆ str       ┆ str       ┆ str       ┆ ---       │\n",
       "│           ┆            ┆            ┆            ┆           ┆           ┆           ┆ list[str] │\n",
       "╞═══════════╪════════════╪════════════╪════════════╪═══════════╪═══════════╪═══════════╪═══════════╡\n",
       "│ 5         ┆ cour       ┆ louis|loui ┆ combernoux ┆ corporati ┆ louise    ┆ jardinier ┆ null      │\n",
       "│           ┆            ┆ s          ┆            ┆ on        ┆ panchaud  ┆           ┆           │\n",
       "│ 6         ┆ fabrique   ┆ louis      ┆ combernoud ┆ corporati ┆ louise    ┆ jardinier ┆ [\"henriet │\n",
       "│           ┆            ┆            ┆            ┆ on        ┆ panchaud  ┆           ┆ te\"]      │\n",
       "│           ┆            ┆            ┆            ┆           ┆ .         ┆           ┆           │\n",
       "│ 7         ┆ cours      ┆ louis      ┆ combernous ┆ corgorati ┆ lse       ┆ jardinier ┆ [\"henriet │\n",
       "│           ┆            ┆            ┆            ┆ on        ┆ panchaud  ┆           ┆ te\",      │\n",
       "│           ┆            ┆            ┆            ┆           ┆           ┆           ┆ \"marie\"]  │\n",
       "│ 9         ┆ cour       ┆ louis      ┆ combernous ┆ corpn fse ┆ lse       ┆ jardinier ┆ [\"henriet │\n",
       "│           ┆            ┆            ┆            ┆           ┆ panchaud  ┆           ┆ te\",      │\n",
       "│           ┆            ┆            ┆            ┆           ┆           ┆           ┆ \"marie\",  │\n",
       "│           ┆            ┆            ┆            ┆           ┆           ┆           ┆ \"samuel…  │\n",
       "│ 10        ┆ cour       ┆ louis      ┆ combernous ┆ corporati ┆ lse       ┆ jardinier ┆ [\"henriet │\n",
       "│           ┆            ┆            ┆            ┆ on        ┆ panchaud  ┆           ┆ te\",      │\n",
       "│           ┆            ┆            ┆            ┆           ┆           ┆           ┆ \"marie\",  │\n",
       "│           ┆            ┆            ┆            ┆           ┆           ┆           ┆ \"samuel…  │\n",
       "│ 11        ┆ cour       ┆ louis      ┆ combernous ┆ conpn fse ┆ lse       ┆ null      ┆ [\"henriet │\n",
       "│           ┆            ┆            ┆            ┆           ┆ panchaud  ┆           ┆ te\",      │\n",
       "│           ┆            ┆            ┆            ┆           ┆           ┆           ┆ \"marie\",  │\n",
       "│           ┆            ┆            ┆            ┆           ┆           ┆           ┆ \"samuel…  │\n",
       "│ 13        ┆ cour       ┆ louis      ┆ combernous ┆ corpn fse ┆ lse       ┆ jardinier ┆ [\"henriet │\n",
       "│           ┆ bellerive  ┆            ┆            ┆           ┆ panchaud  ┆           ┆ te\",      │\n",
       "│           ┆            ┆            ┆            ┆           ┆           ┆           ┆ \"marie\",  │\n",
       "│           ┆            ┆            ┆            ┆           ┆           ┆           ┆ … \"loui…  │\n",
       "│ 14        ┆ cour       ┆ louis      ┆ combernous ┆ copple    ┆ ls        ┆ jardinier ┆ [\"henriet │\n",
       "│           ┆            ┆            ┆            ┆           ┆ panchaud| ┆           ┆ te  marie │\n",
       "│           ┆            ┆            ┆            ┆           ┆           ┆           ┆ samuel\"]  │\n",
       "│ 15        ┆ cour       ┆ louis      ┆ combernous ┆ corp      ┆ le        ┆ jardinier ┆ null      │\n",
       "│           ┆            ┆            ┆            ┆           ┆ panchaud  ┆           ┆           │\n",
       "│ 16        ┆ cour       ┆ louis      ┆ combernoux ┆ corpste   ┆ lse       ┆ jardinier ┆ [\"henriet │\n",
       "│           ┆            ┆            ┆            ┆           ┆ panchaud  ┆           ┆ te\",      │\n",
       "│           ┆            ┆            ┆            ┆           ┆           ┆           ┆ \"marie\",  │\n",
       "│           ┆            ┆            ┆            ┆           ┆           ┆           ┆ … \"char…  │\n",
       "│ 17        ┆ cour       ┆ louis      ┆ combernoux ┆ corp fse  ┆ lse       ┆ null      ┆ [\"henriet │\n",
       "│           ┆ beauregard ┆            ┆            ┆           ┆ panchaud  ┆           ┆ te\",      │\n",
       "│           ┆            ┆            ┆            ┆           ┆           ┆           ┆ \"marie\",  │\n",
       "│           ┆            ┆            ┆            ┆           ┆           ┆           ┆ … \"char…  │\n",
       "│ 18        ┆ lour       ┆ louis      ┆ combernoux ┆ etson     ┆ vse       ┆ journalie ┆ [\"henriet │\n",
       "│           ┆            ┆            ┆            ┆ fcaise    ┆ panchaud  ┆ r         ┆ te\",      │\n",
       "│           ┆            ┆            ┆            ┆           ┆           ┆           ┆ \"marie\",  │\n",
       "│           ┆            ┆            ┆            ┆           ┆           ┆           ┆ … \"loui…  │\n",
       "│ 19        ┆ cour       ┆ louis      ┆ combernous ┆ corporati ┆ lse       ┆ jardinier ┆ [\"henriet │\n",
       "│           ┆ bellerive  ┆            ┆            ┆ on        ┆ panchaud  ┆           ┆ te\",      │\n",
       "│           ┆            ┆            ┆            ┆           ┆           ┆           ┆ \"marie\",  │\n",
       "│           ┆            ┆            ┆            ┆           ┆           ┆           ┆ … \"loui…  │\n",
       "│ 22        ┆ cour       ┆ louis      ┆ combernoux ┆ corporati ┆ pt        ┆ jardinier ┆ [\"marie\", │\n",
       "│           ┆            ┆            ┆            ┆ on        ┆ panchaud  ┆           ┆ \"samuel\", │\n",
       "│           ┆            ┆            ┆            ┆           ┆           ┆           ┆ …         │\n",
       "│           ┆            ┆            ┆            ┆           ┆           ┆           ┆ \"jenny\"]  │\n",
       "└───────────┴────────────┴────────────┴────────────┴───────────┴───────────┴───────────┴───────────┘"
      ]
     },
     "execution_count": 38,
     "metadata": {},
     "output_type": "execute_result"
    }
   ],
   "source": [
    "# chain = find_chain_with_length(graph, dataframes, record_schema, 0, 3)\n",
    "# tracker_id = find_chain_with_length(graph, 2000, 20)\n",
    "tracker_id = 17538935117787232950\n",
    "chain = graph.materialize_tracking_chain(tracker_id, dataframes, record_schema, normalized_dfs)\n",
    "chain.as_dataframe()"
   ]
  },
  {
   "cell_type": "code",
   "execution_count": 37,
   "metadata": {},
   "outputs": [
    {
     "data": {
      "text/html": [
       "<div><style>\n",
       ".dataframe > thead > tr,\n",
       ".dataframe > tbody > tr {\n",
       "  text-align: right;\n",
       "  white-space: pre-wrap;\n",
       "}\n",
       "</style>\n",
       "<small>shape: (11, 8)</small><table border=\"1\" class=\"dataframe\"><thead><tr><th>frame_idx</th><th>nom_rue</th><th>chef_prenom</th><th>chef_nom</th><th>chef_origine</th><th>epouse_nom</th><th>chef_vocation</th><th>enfants_chez_parents_prenom</th></tr><tr><td>i64</td><td>str</td><td>str</td><td>str</td><td>str</td><td>str</td><td>str</td><td>list[str]</td></tr></thead><tbody><tr><td>0</td><td>&quot;cour&quot;</td><td>&quot;henri&quot;</td><td>&quot;combernous&quot;</td><td>&quot;corpn fse&quot;</td><td>&quot;mie baridon&quot;</td><td>&quot;jardinier&quot;</td><td>[&quot;georges&quot;, &quot;jenny&quot;, &quot;louis&quot;]</td></tr><tr><td>1</td><td>&quot;cour&quot;</td><td>&quot;henri&quot;</td><td>&quot;combernous&quot;</td><td>&quot;corpn fse&quot;</td><td>&quot;mie baridon&quot;</td><td>&quot;jardinier&quot;</td><td>[&quot;georges&quot;, &quot;jenny&quot;, &quot;louis&quot;]</td></tr><tr><td>2</td><td>&quot;cour&quot;</td><td>&quot;henri&quot;</td><td>&quot;combernous&quot;</td><td>&quot;corpn fse&quot;</td><td>&quot;mie baridon&quot;</td><td>&quot;jardinier&quot;</td><td>[&quot;georges&quot;, &quot;jenny&quot;, &quot;louis&quot;]</td></tr><tr><td>3</td><td>&quot;cour&quot;</td><td>&quot;henri&quot;</td><td>&quot;combernous&quot;</td><td>&quot;corpn fse&quot;</td><td>&quot;mie baridon&quot;</td><td>&quot;jardinier&quot;</td><td>[&quot;georges&quot;, &quot;jenny&quot;, &quot;louis&quot;]</td></tr><tr><td>4</td><td>&quot;cour&quot;</td><td>&quot;henri&quot;</td><td>&quot;combernous&quot;</td><td>&quot;corpn fse&quot;</td><td>&quot;mie baridon&quot;</td><td>&quot;jardinier&quot;</td><td>[&quot;georges&quot;, &quot;jenny&quot;, &quot;louis&quot;]</td></tr><tr><td>5</td><td>&quot;cour&quot;</td><td>&quot;henri&quot;</td><td>&quot;combernous&quot;</td><td>&quot;corpn fse&quot;</td><td>&quot;mie baridon&quot;</td><td>&quot;jardinier&quot;</td><td>[&quot;georges&quot;, &quot;jenny&quot;]</td></tr><tr><td>6</td><td>&quot;cour&quot;</td><td>&quot;henri&quot;</td><td>&quot;combernous&quot;</td><td>&quot;corpn fse&quot;</td><td>&quot;mie baridon&quot;</td><td>&quot;jardinier&quot;</td><td>[&quot;georges&quot;, &quot;jenny&quot;]</td></tr><tr><td>7</td><td>&quot;cour&quot;</td><td>&quot;henri&quot;</td><td>&quot;combernous&quot;</td><td>&quot;corpn fse&quot;</td><td>&quot;mie baridon&quot;</td><td>&quot;jardinier&quot;</td><td>[&quot;georges&quot;, &quot;jenny&quot;]</td></tr><tr><td>8</td><td>&quot;cour&quot;</td><td>&quot;henri&quot;</td><td>&quot;combernous&quot;</td><td>&quot;corpn fse&quot;</td><td>&quot;mie baridon&quot;</td><td>&quot;jardinier&quot;</td><td>[&quot;georges&quot;, &quot;jenny&quot;]</td></tr><tr><td>9</td><td>&quot;cour&quot;</td><td>&quot;henri&quot;</td><td>&quot;combernous&quot;</td><td>&quot;corpn fse&quot;</td><td>&quot;mie baridon&quot;</td><td>&quot;jardinier&quot;</td><td>[&quot;georges&quot;, &quot;jenny&quot;]</td></tr><tr><td>10</td><td>&quot;cour&quot;</td><td>&quot;henri&quot;</td><td>&quot;combernous&quot;</td><td>&quot;corpn fse&quot;</td><td>&quot;mie baridon&quot;</td><td>&quot;jardinier&quot;</td><td>[]</td></tr></tbody></table></div>"
      ],
      "text/plain": [
       "shape: (11, 8)\n",
       "┌───────────┬─────────┬────────────┬────────────┬────────────┬────────────┬────────────┬───────────┐\n",
       "│ frame_idx ┆ nom_rue ┆ chef_preno ┆ chef_nom   ┆ chef_origi ┆ epouse_nom ┆ chef_vocat ┆ enfants_c │\n",
       "│ ---       ┆ ---     ┆ m          ┆ ---        ┆ ne         ┆ ---        ┆ ion        ┆ hez_paren │\n",
       "│ i64       ┆ str     ┆ ---        ┆ str        ┆ ---        ┆ str        ┆ ---        ┆ ts_prenom │\n",
       "│           ┆         ┆ str        ┆            ┆ str        ┆            ┆ str        ┆ ---       │\n",
       "│           ┆         ┆            ┆            ┆            ┆            ┆            ┆ list[str] │\n",
       "╞═══════════╪═════════╪════════════╪════════════╪════════════╪════════════╪════════════╪═══════════╡\n",
       "│ 0         ┆ cour    ┆ henri      ┆ combernous ┆ corpn fse  ┆ mie        ┆ jardinier  ┆ [\"georges │\n",
       "│           ┆         ┆            ┆            ┆            ┆ baridon    ┆            ┆ \",        │\n",
       "│           ┆         ┆            ┆            ┆            ┆            ┆            ┆ \"jenny\",  │\n",
       "│           ┆         ┆            ┆            ┆            ┆            ┆            ┆ \"louis\"]  │\n",
       "│ 1         ┆ cour    ┆ henri      ┆ combernous ┆ corpn fse  ┆ mie        ┆ jardinier  ┆ [\"georges │\n",
       "│           ┆         ┆            ┆            ┆            ┆ baridon    ┆            ┆ \",        │\n",
       "│           ┆         ┆            ┆            ┆            ┆            ┆            ┆ \"jenny\",  │\n",
       "│           ┆         ┆            ┆            ┆            ┆            ┆            ┆ \"louis\"]  │\n",
       "│ 2         ┆ cour    ┆ henri      ┆ combernous ┆ corpn fse  ┆ mie        ┆ jardinier  ┆ [\"georges │\n",
       "│           ┆         ┆            ┆            ┆            ┆ baridon    ┆            ┆ \",        │\n",
       "│           ┆         ┆            ┆            ┆            ┆            ┆            ┆ \"jenny\",  │\n",
       "│           ┆         ┆            ┆            ┆            ┆            ┆            ┆ \"louis\"]  │\n",
       "│ 3         ┆ cour    ┆ henri      ┆ combernous ┆ corpn fse  ┆ mie        ┆ jardinier  ┆ [\"georges │\n",
       "│           ┆         ┆            ┆            ┆            ┆ baridon    ┆            ┆ \",        │\n",
       "│           ┆         ┆            ┆            ┆            ┆            ┆            ┆ \"jenny\",  │\n",
       "│           ┆         ┆            ┆            ┆            ┆            ┆            ┆ \"louis\"]  │\n",
       "│ 4         ┆ cour    ┆ henri      ┆ combernous ┆ corpn fse  ┆ mie        ┆ jardinier  ┆ [\"georges │\n",
       "│           ┆         ┆            ┆            ┆            ┆ baridon    ┆            ┆ \",        │\n",
       "│           ┆         ┆            ┆            ┆            ┆            ┆            ┆ \"jenny\",  │\n",
       "│           ┆         ┆            ┆            ┆            ┆            ┆            ┆ \"louis\"]  │\n",
       "│ 5         ┆ cour    ┆ henri      ┆ combernous ┆ corpn fse  ┆ mie        ┆ jardinier  ┆ [\"georges │\n",
       "│           ┆         ┆            ┆            ┆            ┆ baridon    ┆            ┆ \",        │\n",
       "│           ┆         ┆            ┆            ┆            ┆            ┆            ┆ \"jenny\"]  │\n",
       "│ 6         ┆ cour    ┆ henri      ┆ combernous ┆ corpn fse  ┆ mie        ┆ jardinier  ┆ [\"georges │\n",
       "│           ┆         ┆            ┆            ┆            ┆ baridon    ┆            ┆ \",        │\n",
       "│           ┆         ┆            ┆            ┆            ┆            ┆            ┆ \"jenny\"]  │\n",
       "│ 7         ┆ cour    ┆ henri      ┆ combernous ┆ corpn fse  ┆ mie        ┆ jardinier  ┆ [\"georges │\n",
       "│           ┆         ┆            ┆            ┆            ┆ baridon    ┆            ┆ \",        │\n",
       "│           ┆         ┆            ┆            ┆            ┆            ┆            ┆ \"jenny\"]  │\n",
       "│ 8         ┆ cour    ┆ henri      ┆ combernous ┆ corpn fse  ┆ mie        ┆ jardinier  ┆ [\"georges │\n",
       "│           ┆         ┆            ┆            ┆            ┆ baridon    ┆            ┆ \",        │\n",
       "│           ┆         ┆            ┆            ┆            ┆            ┆            ┆ \"jenny\"]  │\n",
       "│ 9         ┆ cour    ┆ henri      ┆ combernous ┆ corpn fse  ┆ mie        ┆ jardinier  ┆ [\"georges │\n",
       "│           ┆         ┆            ┆            ┆            ┆ baridon    ┆            ┆ \",        │\n",
       "│           ┆         ┆            ┆            ┆            ┆            ┆            ┆ \"jenny\"]  │\n",
       "│ 10        ┆ cour    ┆ henri      ┆ combernous ┆ corpn fse  ┆ mie        ┆ jardinier  ┆ []        │\n",
       "│           ┆         ┆            ┆            ┆            ┆ baridon    ┆            ┆           │\n",
       "└───────────┴─────────┴────────────┴────────────┴────────────┴────────────┴────────────┴───────────┘"
      ]
     },
     "execution_count": 37,
     "metadata": {},
     "output_type": "execute_result"
    }
   ],
   "source": [
    "chain.as_dataframe(normalized=True)"
   ]
  },
  {
   "cell_type": "code",
   "execution_count": null,
   "metadata": {},
   "outputs": [],
   "source": [
    "df = chain.as_dataframe()"
   ]
  },
  {
   "cell_type": "code",
   "execution_count": 23,
   "metadata": {},
   "outputs": [],
   "source": [
    "genealogy_config = bb.GenealogyConfig(\n",
    "    husband_name_idx=1,\n",
    "    wife_name_idx=4,\n",
    "    last_name_idx=2,\n",
    "    children_idx=6,\n",
    "    min_tracking_chain_length=10,\n",
    "    min_child_count=5,\n",
    "    search_last_frame_child=False,\n",
    "    search_year_range=1,\n",
    "    matching_threshold=0.9,\n",
    ")"
   ]
  },
  {
   "cell_type": "code",
   "execution_count": 24,
   "metadata": {},
   "outputs": [],
   "source": [
    "raw_genealogy_trees = bb.execute_genealogy_process(\n",
    "    genealogy_config,\n",
    "    distance_metric_config=config.distance_metric,\n",
    "    record_schema=record_schema,\n",
    "    tracking_graph=graph._raw,\n",
    "    dataframes=normalized_dfs,\n",
    ")"
   ]
  },
  {
   "cell_type": "code",
   "execution_count": 25,
   "metadata": {},
   "outputs": [],
   "source": [
    "import json\n",
    "\n",
    "\n",
    "genealogy_trees = json.loads(raw_genealogy_trees)"
   ]
  },
  {
   "cell_type": "code",
   "execution_count": 26,
   "metadata": {},
   "outputs": [],
   "source": [
    "def get_tree_depth(tree: dict) -> int:\n",
    "    \"\"\"\n",
    "    Returns the depth of the tree.\n",
    "    \"\"\"\n",
    "    if len(tree[\"children\"]) == 0:\n",
    "        return 1\n",
    "    return 1 + max(get_tree_depth(child) for child in tree[\"children\"])\n",
    "\n",
    "def get_tree_depth_husband(tree: dict) -> int:\n",
    "    \"\"\"\n",
    "    Returns the depth of the tree.\n",
    "    \"\"\"\n",
    "    if not tree[\"is_husband\"]:\n",
    "        return 0\n",
    "    if len(tree[\"children\"]) == 0:\n",
    "        return 1\n",
    "    return 1 + max(get_tree_depth_husband(child) for child in tree[\"children\"])\n",
    "\n",
    "depths = [0 for i in range(10)]\n",
    "\n",
    "for tree in genealogy_trees:\n",
    "    depth = get_tree_depth(tree)\n",
    "    if depth < 10:\n",
    "        depths[depth] += 1\n",
    "    else:\n",
    "        print(f\"Tree with depth {depth} found\")"
   ]
  },
  {
   "cell_type": "code",
   "execution_count": 27,
   "metadata": {},
   "outputs": [
    {
     "data": {
      "text/plain": [
       "[0, 0, 1564, 201, 22, 0, 0, 0, 0, 0]"
      ]
     },
     "execution_count": 27,
     "metadata": {},
     "output_type": "execute_result"
    }
   ],
   "source": [
    "depths"
   ]
  },
  {
   "cell_type": "code",
   "execution_count": 34,
   "metadata": {},
   "outputs": [
    {
     "data": {
      "text/plain": [
       "{'id': 17047012777378778910,\n",
       " 'is_husband': True,\n",
       " 'children': [{'id': 2053979435718625468,\n",
       "   'is_husband': False,\n",
       "   'children': [{'id': 2902202702171136808,\n",
       "     'is_husband': True,\n",
       "     'children': [],\n",
       "     'leaf_children': []}],\n",
       "   'leaf_children': []},\n",
       "  {'id': 2118430769085354166,\n",
       "   'is_husband': False,\n",
       "   'children': [],\n",
       "   'leaf_children': []},\n",
       "  {'id': 17963529665389979561,\n",
       "   'is_husband': False,\n",
       "   'children': [],\n",
       "   'leaf_children': []},\n",
       "  {'id': 14393421560522056081,\n",
       "   'is_husband': False,\n",
       "   'children': [],\n",
       "   'leaf_children': []},\n",
       "  {'id': 8881711425100918396,\n",
       "   'is_husband': False,\n",
       "   'children': [],\n",
       "   'leaf_children': []}],\n",
       " 'leaf_children': []}"
      ]
     },
     "execution_count": 34,
     "metadata": {},
     "output_type": "execute_result"
    }
   ],
   "source": [
    "genealogy_trees[13]"
   ]
  },
  {
   "cell_type": "code",
   "execution_count": null,
   "metadata": {},
   "outputs": [],
   "source": []
  }
 ],
 "metadata": {
  "kernelspec": {
   "display_name": ".venv",
   "language": "python",
   "name": "python3"
  },
  "language_info": {
   "codemirror_mode": {
    "name": "ipython",
    "version": 3
   },
   "file_extension": ".py",
   "mimetype": "text/x-python",
   "name": "python",
   "nbconvert_exporter": "python",
   "pygments_lexer": "ipython3",
   "version": "3.11.11"
  }
 },
 "nbformat": 4,
 "nbformat_minor": 2
}
