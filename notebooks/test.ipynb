{
 "cells": [
  {
   "cell_type": "code",
   "execution_count": null,
   "metadata": {},
   "outputs": [],
   "source": [
    "import polars as pl\n",
    "import blitzbeaver as bb"
   ]
  },
  {
   "cell_type": "code",
   "execution_count": null,
   "metadata": {},
   "outputs": [],
   "source": [
    "csv_path = \"../../aptihramy/data/csv_cleaned\"\n",
    "\n",
    "dataframes = [\n",
    "    pl.read_csv(f\"{csv_path}/1805.csv\", infer_schema_length=10000),\n",
    "    pl.read_csv(f\"{csv_path}/1806.csv\", infer_schema_length=10000),\n",
    "    pl.read_csv(f\"{csv_path}/1807.csv\", infer_schema_length=10000),\n",
    "    pl.read_csv(f\"{csv_path}/1808.csv\", infer_schema_length=10000),\n",
    "    pl.read_csv(f\"{csv_path}/1809.csv\", infer_schema_length=10000),\n",
    "    pl.read_csv(f\"{csv_path}/1810.csv\", infer_schema_length=10000),\n",
    "]"
   ]
  },
  {
   "cell_type": "code",
   "execution_count": null,
   "metadata": {},
   "outputs": [],
   "source": [
    "# load the graph from a .beaver file\n",
    "path_graph = \"../graph.beaver\"\n",
    "\n",
    "graph = bb.TrackingGraph.load(path_graph)"
   ]
  },
  {
   "cell_type": "code",
   "execution_count": null,
   "metadata": {},
   "outputs": [],
   "source": [
    "record_schema = bb.RecordSchema(\n",
    "    [\n",
    "        bb.FieldSchema(\"nom_rue_norm\", bb.ElementType.String),\n",
    "        bb.FieldSchema(\"chef_prenom_norm\", bb.ElementType.String),\n",
    "        bb.FieldSchema(\"chef_nom_norm\", bb.ElementType.String),\n",
    "        bb.FieldSchema(\"chef_origine\", bb.ElementType.String),\n",
    "        bb.FieldSchema(\"epouse_nom\", bb.ElementType.String),\n",
    "        bb.FieldSchema(\"chef_vocation\", bb.ElementType.String),\n",
    "    ]\n",
    ")"
   ]
  },
  {
   "cell_type": "code",
   "execution_count": null,
   "metadata": {},
   "outputs": [],
   "source": [
    "config = bb.TrackingConfig(\n",
    "    num_threads=17,\n",
    "    tracker=bb.TrackerConfig(\n",
    "        interest_threshold=0.4,\n",
    "        memory_strategy=\"median\",\n",
    "        record_scorer=bb.RecordScorerConfig(\n",
    "            record_scorer=\"weighted-quadratic\",\n",
    "            weights=[\n",
    "                0.15,\n",
    "                0.25,\n",
    "                0.25,\n",
    "                0.1,\n",
    "                0.1,\n",
    "                0.1,\n",
    "            ],\n",
    "        )\n",
    "    ),\n",
    "    distance_metric=bb.DistanceMetricConfig(\n",
    "        metric=\"lvopti\",\n",
    "        caching_threshold=4,\n",
    "    ),\n",
    "    resolver=bb.ResolverConfig(\n",
    "        resolving_strategy=\"best-match\",\n",
    "    ),\n",
    ")\n",
    "bb.validate_tracking_config(config)"
   ]
  },
  {
   "cell_type": "code",
   "execution_count": null,
   "metadata": {},
   "outputs": [],
   "source": [
    "# compute the graph\n",
    "graph = bb.test_tracking_engine(config, record_schema, dataframes, \"debug\")\n",
    "graph = bb.TrackingGraph(graph)"
   ]
  },
  {
   "cell_type": "code",
   "execution_count": null,
   "metadata": {},
   "outputs": [],
   "source": [
    "path_graph = \"../graph.beaver\"\n",
    "\n",
    "graph.save(path_graph)"
   ]
  },
  {
   "cell_type": "code",
   "execution_count": null,
   "metadata": {},
   "outputs": [],
   "source": [
    "chain_id = graph._raw.root.outs[678][0]\n",
    "\n",
    "graph.materialize_tracking_chain(chain_id, dataframes)"
   ]
  },
  {
   "cell_type": "code",
   "execution_count": null,
   "metadata": {},
   "outputs": [],
   "source": [
    "print(\"Tracking chains:\", len(graph._raw.root.outs))\n",
    "\n",
    "chain_metrics = bb.evaluate_tracking_chain_length(graph._raw)\n",
    "print(chain_metrics)\n",
    "\n",
    "graph_metrics = bb.evaluate_tracking_graph_properties(graph._raw)\n",
    "print(graph_metrics)"
   ]
  },
  {
   "cell_type": "code",
   "execution_count": null,
   "metadata": {},
   "outputs": [],
   "source": [
    "histogram: list[int] = chain_metrics.histogram\n",
    "\n",
    "# display a graph of the histogram\n",
    "import matplotlib.pyplot as plt\n",
    "\n",
    "plt.bar(range(len(histogram)), histogram)\n",
    "plt.show()"
   ]
  },
  {
   "cell_type": "code",
   "execution_count": null,
   "metadata": {},
   "outputs": [],
   "source": [
    "words = [\n",
    "    \"magimelien\",\n",
    "    \"mazimilien\",\n",
    "    \"mazirelien\",\n",
    "    \"marinelien\",\n",
    "]\n",
    "bb.compute_median_word(words)\n"
   ]
  },
  {
   "cell_type": "code",
   "execution_count": null,
   "metadata": {},
   "outputs": [],
   "source": []
  }
 ],
 "metadata": {
  "kernelspec": {
   "display_name": ".venv",
   "language": "python",
   "name": "python3"
  },
  "language_info": {
   "codemirror_mode": {
    "name": "ipython",
    "version": 3
   },
   "file_extension": ".py",
   "mimetype": "text/x-python",
   "name": "python",
   "nbconvert_exporter": "python",
   "pygments_lexer": "ipython3",
   "version": "3.11.11"
  }
 },
 "nbformat": 4,
 "nbformat_minor": 2
}
