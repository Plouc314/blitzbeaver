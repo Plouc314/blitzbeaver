{
 "cells": [
  {
   "cell_type": "code",
   "execution_count": null,
   "metadata": {},
   "outputs": [],
   "source": [
    "import polars as pl\n",
    "import matplotlib.pyplot as plt\n",
    "import blitzbeaver as bb"
   ]
  },
  {
   "cell_type": "code",
   "execution_count": null,
   "metadata": {},
   "outputs": [],
   "source": [
    "csv_path = \"../../aptihramy/data/csv_cleaned\"\n",
    "\n",
    "start_year = 1805\n",
    "end_year = 1810\n",
    "\n",
    "dataframes = [\n",
    "    pl.read_csv(f\"{csv_path}/{year}.csv\", infer_schema_length=10000)\n",
    "    for year in range(start_year, end_year + 1)\n",
    "]"
   ]
  },
  {
   "cell_type": "code",
   "execution_count": null,
   "metadata": {},
   "outputs": [],
   "source": [
    "# load the graph from a .beaver file\n",
    "path_graph = \"../graph.beaver\"\n",
    "\n",
    "graph = bb.read_beaver(path_graph)"
   ]
  },
  {
   "cell_type": "code",
   "execution_count": null,
   "metadata": {},
   "outputs": [],
   "source": [
    "record_schema = bb.RecordSchema(\n",
    "    [\n",
    "        bb.FieldSchema(\"nom_rue_norm\", bb.ElementType.String),\n",
    "        bb.FieldSchema(\"chef_prenom_norm\", bb.ElementType.String),\n",
    "        bb.FieldSchema(\"chef_nom_norm\", bb.ElementType.String),\n",
    "        bb.FieldSchema(\"chef_origine\", bb.ElementType.String),\n",
    "        bb.FieldSchema(\"epouse_nom\", bb.ElementType.String),\n",
    "        bb.FieldSchema(\"chef_vocation\", bb.ElementType.String),\n",
    "    ]\n",
    ")"
   ]
  },
  {
   "cell_type": "code",
   "execution_count": null,
   "metadata": {},
   "outputs": [],
   "source": [
    "distance_metric_config = bb.DistanceMetricConfig(\n",
    "    metric=\"lv_opti\",\n",
    "    caching_threshold=4,\n",
    "    lv_substring_weight=0.5,\n",
    ")\n",
    "normal_memory_config = bb.MemoryConfig(\n",
    "    memory_strategy=\"median\",\n",
    ")\n",
    "multi_memory_config = bb.MemoryConfig(\n",
    "    memory_strategy=\"mw-median\",\n",
    "    multiword_threshold_match=0.6,\n",
    "    multiword_distance_metric=distance_metric_config,\n",
    ")\n",
    "\n",
    "config = bb.TrackingConfig(\n",
    "    num_threads=17,\n",
    "    tracker=bb.TrackerConfig(\n",
    "        interest_threshold=0.6,\n",
    "        limit_no_match_streak=3,\n",
    "        memories=(\n",
    "            6 * [normal_memory_config]\n",
    "            + [multi_memory_config]\n",
    "        ),\n",
    "        record_scorer=bb.RecordScorerConfig(\n",
    "            record_scorer=\"weighted-average\",\n",
    "            weights=[\n",
    "                0.15,\n",
    "                0.25,\n",
    "                0.25,\n",
    "                0.1,\n",
    "                0.1,\n",
    "                0.1,\n",
    "            ],\n",
    "            min_weight_ratio=0.7,\n",
    "        )\n",
    "    ),\n",
    "    distance_metric=bb.DistanceMetricConfig(\n",
    "        metric=\"lv_opti\",\n",
    "        caching_threshold=4,\n",
    "        lv_substring_weight=0.5,\n",
    "    ),\n",
    "    resolver=bb.ResolverConfig(\n",
    "        resolving_strategy=\"best-match\",\n",
    "    ),\n",
    ")"
   ]
  },
  {
   "cell_type": "code",
   "execution_count": null,
   "metadata": {},
   "outputs": [],
   "source": [
    "# compute the graph\n",
    "graph = bb.execute_tracking(config, record_schema, dataframes, \"debug\")"
   ]
  },
  {
   "cell_type": "code",
   "execution_count": null,
   "metadata": {},
   "outputs": [],
   "source": [
    "def aggregate_histograms(histograms: list[int]) -> list[int]:\n",
    "    \"\"\"\n",
    "    Aggregates a list of histograms into a single histogram.\n",
    "    \"\"\"\n",
    "    max_len = max([len(h) for h in histograms])\n",
    "    result = [0] * max_len\n",
    "    for h in histograms:\n",
    "        for i, v in enumerate(h):\n",
    "            result[i] += v\n",
    "    return result\n",
    "\n",
    "def summary_graph(graph: bb.TrackingGraph):\n",
    "    # compute the sum of the histograms for all frames\n",
    "    histogram_records = aggregate_histograms([resolving.histogram_record_matchs for resolving in graph.diagnostics.resolvings])\n",
    "    # do not show beyond 10 elements as the counts are very low\n",
    "    histogram_records = histogram_records\n",
    "    histogram_trackers = aggregate_histograms([resolving.histogram_tracker_matchs for resolving in graph.diagnostics.resolvings])\n",
    "    histogram_trackers = histogram_trackers[:10]\n",
    "\n",
    "    chain_metrics = bb.evaluate_tracking_chain_length(graph._raw)\n",
    "    graph_metrics = bb.evaluate_tracking_graph_properties(graph._raw)\n",
    "\n",
    "    records_match_ratios = graph_metrics.records_match_ratios[1:]\n",
    "    trackers_match_ratios = graph_metrics.trackers_match_ratios[1:-1]\n",
    "    avg_records_match = sum(records_match_ratios) / len(records_match_ratios)\n",
    "    avg_trackers_match = sum(trackers_match_ratios) / len(trackers_match_ratios)\n",
    "\n",
    "    per_divergence = sum(histogram_trackers[2:]) / sum(histogram_trackers[1:])\n",
    "    per_conflict = sum(histogram_records[2:]) / sum(histogram_records[1:])\n",
    "\n",
    "    # total number of trackers created\n",
    "    print(f\"Number of chains: {len(graph.trackers_ids)}\")\n",
    "    # average percentage of records that have been match with an existing tracker\n",
    "    print(f\"Percentage of matching records: {avg_records_match*100:.2f}%\")\n",
    "    # average percentage of trackers that have match with a record of the current frame\n",
    "    print(f\"Percentage of matching trackers: {avg_trackers_match*100:.2f}%\")\n",
    "    # number of times a tracker matched with more that one record\n",
    "    # divided by the number of times a tracker matched with a record\n",
    "    print(f\"Percentage of divergences: {per_divergence*100:.2f}%\")\n",
    "    # number of times a record matched with multiple trackers\n",
    "    # divided by the number of times a record matched with a tracker\n",
    "    print(f\"Percentage of conflicts: {per_conflict*100:.2f}%\")\n",
    "\n",
    "    plt.bar(range(1, len(chain_metrics.histogram)), chain_metrics.histogram[1:])\n",
    "    plt.title(\"Histogram of tracking chain lengths\")\n",
    "    plt.show()\n",
    "\n",
    "    plt.bar(range(len(histogram_records)), histogram_records)\n",
    "    plt.title(\"Histogram of # matchs per record\")\n",
    "    plt.show()\n",
    "\n",
    "    plt.bar(range(len(histogram_trackers)), histogram_trackers)\n",
    "    plt.title(\"Histogram of # matchs per tracker\")\n",
    "    plt.show()\n",
    "\n",
    "    "
   ]
  },
  {
   "cell_type": "code",
   "execution_count": null,
   "metadata": {},
   "outputs": [],
   "source": [
    "summary_graph(graph)"
   ]
  },
  {
   "cell_type": "code",
   "execution_count": null,
   "metadata": {},
   "outputs": [],
   "source": [
    "path_graph = \"../graph.beaver\"\n",
    "\n",
    "bb.save_beaver(path_graph, graph)"
   ]
  },
  {
   "cell_type": "code",
   "execution_count": null,
   "metadata": {},
   "outputs": [],
   "source": [
    "chain_id = graph.trackers_ids[1293]\n",
    "\n",
    "chain = graph.materialize_tracking_chain(chain_id, dataframes, record_schema)\n",
    "chain.as_dataframe()"
   ]
  },
  {
   "cell_type": "code",
   "execution_count": null,
   "metadata": {},
   "outputs": [],
   "source": [
    "words = [\n",
    "    \"magimelien\",\n",
    "    \"mazimilien\",\n",
    "    \"mazirelien\",\n",
    "    \"marinelien\",\n",
    "]\n",
    "bb.compute_median_word(words)\n"
   ]
  },
  {
   "cell_type": "code",
   "execution_count": null,
   "metadata": {},
   "outputs": [],
   "source": []
  }
 ],
 "metadata": {
  "kernelspec": {
   "display_name": ".venv",
   "language": "python",
   "name": "python3"
  },
  "language_info": {
   "codemirror_mode": {
    "name": "ipython",
    "version": 3
   },
   "file_extension": ".py",
   "mimetype": "text/x-python",
   "name": "python",
   "nbconvert_exporter": "python",
   "pygments_lexer": "ipython3",
   "version": "3.11.11"
  }
 },
 "nbformat": 4,
 "nbformat_minor": 2
}
