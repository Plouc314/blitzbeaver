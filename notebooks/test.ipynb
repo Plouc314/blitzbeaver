{
 "cells": [
  {
   "cell_type": "code",
   "execution_count": null,
   "metadata": {},
   "outputs": [],
   "source": [
    "import polars as pl\n",
    "import matplotlib.pyplot as plt\n",
    "import blitzbeaver as bb"
   ]
  },
  {
   "cell_type": "code",
   "execution_count": null,
   "metadata": {},
   "outputs": [],
   "source": [
    "csv_path = \"../../aptihramy/data/csv_cleaned\"\n",
    "\n",
    "start_year = 1835\n",
    "end_year = 1850\n",
    "\n",
    "dataframes = [\n",
    "    pl.read_csv(f\"{csv_path}/{year}.csv\", infer_schema_length=10000)\n",
    "    for year in range(start_year, end_year + 1)\n",
    "]"
   ]
  },
  {
   "cell_type": "code",
   "execution_count": null,
   "metadata": {},
   "outputs": [],
   "source": [
    "for i in range(len(dataframes)):\n",
    "    df = dataframes[i]\n",
    "    dataframes[i] = df.with_columns(df[\"enfants_chez_parents_prenom\"].str.split(\"|\")\n",
    "                                    .list.eval(pl.element().filter(pl.element() != \"\"))\n",
    "                                    .alias(\"enfants_chez_parents_prenom\"))"
   ]
  },
  {
   "cell_type": "code",
   "execution_count": null,
   "metadata": {},
   "outputs": [],
   "source": [
    "# load the graph from a .beaver file\n",
    "path_graph = \"../graph.beaver\"\n",
    "\n",
    "graph = bb.read_beaver(path_graph)"
   ]
  },
  {
   "cell_type": "code",
   "execution_count": null,
   "metadata": {},
   "outputs": [],
   "source": [
    "record_schema = bb.RecordSchema(\n",
    "    [\n",
    "        bb.FieldSchema(\"nom_rue\", bb.ElementType.String),\n",
    "        bb.FieldSchema(\"chef_prenom\", bb.ElementType.String),\n",
    "        bb.FieldSchema(\"chef_nom\", bb.ElementType.String),\n",
    "        bb.FieldSchema(\"chef_origine\", bb.ElementType.String),\n",
    "        bb.FieldSchema(\"epouse_nom\", bb.ElementType.String),\n",
    "        bb.FieldSchema(\"chef_vocation\", bb.ElementType.String),\n",
    "        bb.FieldSchema(\"enfants_chez_parents_prenom\", bb.ElementType.MultiStrings),\n",
    "    ]\n",
    ")"
   ]
  },
  {
   "cell_type": "code",
   "execution_count": null,
   "metadata": {},
   "outputs": [],
   "source": [
    "distance_metric_config = bb.DistanceMetricConfig(\n",
    "    metric=\"lv_opti\",\n",
    "    caching_threshold=4,\n",
    "    use_sigmoid=False,\n",
    "    lv_substring_weight=0.5,\n",
    ")\n",
    "normal_memory_config = bb.MemoryConfig(\n",
    "    memory_strategy=\"median\",\n",
    ")\n",
    "multi_memory_config = bb.MemoryConfig(\n",
    "    memory_strategy=\"mw-median\",\n",
    "    multiword_threshold_match=0.6,\n",
    "    multiword_distance_metric=distance_metric_config,\n",
    ")\n",
    "\n",
    "config = bb.config(\n",
    "    record_schema=record_schema,\n",
    "    distance_metric_config=distance_metric_config,\n",
    "    record_scorer_config=bb.RecordScorerConfig(\n",
    "        record_scorer=\"weighted-average\",\n",
    "        weights=[\n",
    "            0.15,\n",
    "            0.25,\n",
    "            0.25,\n",
    "            0.1,\n",
    "            0.1,\n",
    "            0.1,\n",
    "            0.1,\n",
    "        ],\n",
    "        min_weight_ratio=0.7,\n",
    "    ),\n",
    "    resolver_config=bb.ResolverConfig(\n",
    "        resolving_strategy=\"best-match\",\n",
    "    ),\n",
    "    memory_config=normal_memory_config,\n",
    "    multistring_memory_config=multi_memory_config,\n",
    "    interest_threshold=0.6,\n",
    "    limit_no_match_streak=3,\n",
    "    num_threads=17,\n",
    ")"
   ]
  },
  {
   "cell_type": "code",
   "execution_count": null,
   "metadata": {},
   "outputs": [],
   "source": [
    "# compute the graph\n",
    "graph = bb.execute_tracking(config, record_schema, dataframes, \"debug\")"
   ]
  },
  {
   "cell_type": "code",
   "execution_count": null,
   "metadata": {},
   "outputs": [],
   "source": [
    "def aggregate_histograms(histograms: list[int]) -> list[int]:\n",
    "    \"\"\"\n",
    "    Aggregates a list of histograms into a single histogram.\n",
    "    \"\"\"\n",
    "    max_len = max([len(h) for h in histograms])\n",
    "    result = [0] * max_len\n",
    "    for h in histograms:\n",
    "        for i, v in enumerate(h):\n",
    "            result[i] += v\n",
    "    return result\n",
    "\n",
    "def summary_graph(graph: bb.TrackingGraph):\n",
    "    # compute the sum of the histograms for all frames\n",
    "    histogram_records = aggregate_histograms([resolving.histogram_record_matchs for resolving in graph.diagnostics.resolvings])\n",
    "    # do not show beyond 10 elements as the counts are very low\n",
    "    histogram_records = histogram_records\n",
    "    histogram_trackers = aggregate_histograms([resolving.histogram_tracker_matchs for resolving in graph.diagnostics.resolvings])\n",
    "    histogram_trackers = histogram_trackers[:10]\n",
    "\n",
    "    chain_metrics = bb.evaluate_tracking_chain_length(graph._raw)\n",
    "    graph_metrics = bb.evaluate_tracking_graph_properties(graph._raw)\n",
    "\n",
    "    records_match_ratios = graph_metrics.records_match_ratios[1:]\n",
    "    trackers_match_ratios = graph_metrics.trackers_match_ratios[1:-1]\n",
    "    avg_records_match = sum(records_match_ratios) / len(records_match_ratios)\n",
    "    avg_trackers_match = sum(trackers_match_ratios) / len(trackers_match_ratios)\n",
    "\n",
    "    per_divergence = sum(histogram_trackers[2:]) / sum(histogram_trackers[1:])\n",
    "    per_conflict = sum(histogram_records[2:]) / sum(histogram_records[1:])\n",
    "\n",
    "    # total number of trackers created\n",
    "    print(f\"Number of chains: {len(graph.trackers_ids)}\")\n",
    "    # average percentage of records that have been match with an existing tracker\n",
    "    print(f\"Percentage of matching records: {avg_records_match*100:.2f}%\")\n",
    "    # average percentage of trackers that have match with a record of the current frame\n",
    "    print(f\"Percentage of matching trackers: {avg_trackers_match*100:.2f}%\")\n",
    "    # number of times a tracker matched with more that one record\n",
    "    # divided by the number of times a tracker matched with a record\n",
    "    print(f\"Percentage of divergences: {per_divergence*100:.2f}%\")\n",
    "    # number of times a record matched with multiple trackers\n",
    "    # divided by the number of times a record matched with a tracker\n",
    "    print(f\"Percentage of conflicts: {per_conflict*100:.2f}%\")\n",
    "\n",
    "    plt.bar(range(1, len(chain_metrics.histogram)), chain_metrics.histogram[1:])\n",
    "    plt.title(\"Histogram of tracking chain lengths\")\n",
    "    plt.show()\n",
    "\n",
    "    plt.bar(range(len(histogram_records)), histogram_records)\n",
    "    plt.title(\"Histogram of # matchs per record\")\n",
    "    plt.show()\n",
    "\n",
    "    plt.bar(range(len(histogram_trackers)), histogram_trackers)\n",
    "    plt.title(\"Histogram of # matchs per tracker\")\n",
    "    plt.show()\n",
    "\n",
    "    "
   ]
  },
  {
   "cell_type": "code",
   "execution_count": null,
   "metadata": {},
   "outputs": [],
   "source": [
    "summary_graph(graph)"
   ]
  },
  {
   "cell_type": "code",
   "execution_count": null,
   "metadata": {},
   "outputs": [],
   "source": [
    "path_graph = \"../graph.beaver\"\n",
    "\n",
    "bb.save_beaver(path_graph, graph)"
   ]
  },
  {
   "cell_type": "code",
   "execution_count": null,
   "metadata": {},
   "outputs": [],
   "source": [
    "normalization_config = bb.NormalizationConfig(\n",
    "    threshold_cluster_match=0.5,\n",
    "    min_cluster_size=2,\n",
    "    distance_metric=distance_metric_config,\n",
    ")"
   ]
  },
  {
   "cell_type": "code",
   "execution_count": null,
   "metadata": {},
   "outputs": [],
   "source": [
    "normalized_dfs = bb.execute_normalization(\n",
    "    normalization_config,\n",
    "    record_schema,\n",
    "    graph,\n",
    "    dataframes,\n",
    ")"
   ]
  },
  {
   "cell_type": "code",
   "execution_count": null,
   "metadata": {},
   "outputs": [],
   "source": [
    "def find_chain_with_length(graph: bb.TrackingGraph, start_idx: int, length: int) -> None:\n",
    "    idx = start_idx\n",
    "    while idx < len(graph.trackers_ids):\n",
    "        tracker_id = graph.trackers_ids[idx]\n",
    "        chain = graph._raw.get_tracking_chain(tracker_id)\n",
    "        if len(chain) >= length:\n",
    "            return tracker_id\n",
    "        idx += 1\n",
    "    return None"
   ]
  },
  {
   "cell_type": "code",
   "execution_count": null,
   "metadata": {},
   "outputs": [],
   "source": [
    "# chain = find_chain_with_length(graph, dataframes, record_schema, 0, 3)\n",
    "tracker_id = find_chain_with_length(graph, 2000, 15)\n",
    "chain = graph.materialize_tracking_chain(tracker_id, dataframes, record_schema, normalized_dataframes=normalized_dfs)\n",
    "chain.as_dataframe()"
   ]
  },
  {
   "cell_type": "code",
   "execution_count": null,
   "metadata": {},
   "outputs": [],
   "source": [
    "chain.as_dataframe(normalized=True)"
   ]
  },
  {
   "cell_type": "code",
   "execution_count": null,
   "metadata": {},
   "outputs": [],
   "source": [
    "df = chain.as_dataframe()"
   ]
  },
  {
   "cell_type": "code",
   "execution_count": null,
   "metadata": {},
   "outputs": [],
   "source": [
    "def get_col_as_list(df: pl.DataFrame, col: str) -> list[str]:\n",
    "    return [v for v in df[col] if v is not None]"
   ]
  },
  {
   "cell_type": "code",
   "execution_count": null,
   "metadata": {},
   "outputs": [],
   "source": [
    "words = [\n",
    "    \"magimelien\",\n",
    "    \"mazimilien\",\n",
    "    \"mazirelien\",\n",
    "    \"marinelien\",\n",
    "    \"hgdfzs\",\n",
    "    \"bob\",\n",
    "    \"boob\",\n",
    "]\n",
    "bb.compute_median_word(words)\n"
   ]
  },
  {
   "cell_type": "code",
   "execution_count": null,
   "metadata": {},
   "outputs": [],
   "source": [
    "bb.compute_words_clusters(\n",
    "    words,\n",
    "    distance_metric_config,\n",
    "    threshold_match=0.6,\n",
    ")"
   ]
  },
  {
   "cell_type": "code",
   "execution_count": null,
   "metadata": {},
   "outputs": [],
   "source": [
    "get_col_as_list(df, \"nom_rue\")"
   ]
  },
  {
   "cell_type": "code",
   "execution_count": null,
   "metadata": {},
   "outputs": [],
   "source": [
    "bb.normalize_words(\n",
    "    get_col_as_list(df, \"nom_rue\"),\n",
    "    distance_metric_config,\n",
    "    threshold_match=0.6,\n",
    "    min_cluster_size=2,\n",
    ")"
   ]
  },
  {
   "cell_type": "code",
   "execution_count": null,
   "metadata": {},
   "outputs": [],
   "source": []
  }
 ],
 "metadata": {
  "kernelspec": {
   "display_name": ".venv",
   "language": "python",
   "name": "python3"
  },
  "language_info": {
   "codemirror_mode": {
    "name": "ipython",
    "version": 3
   },
   "file_extension": ".py",
   "mimetype": "text/x-python",
   "name": "python",
   "nbconvert_exporter": "python",
   "pygments_lexer": "ipython3",
   "version": "3.11.11"
  }
 },
 "nbformat": 4,
 "nbformat_minor": 2
}
