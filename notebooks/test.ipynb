{
 "cells": [
  {
   "cell_type": "code",
   "execution_count": 1,
   "metadata": {},
   "outputs": [],
   "source": [
    "import polars as pl\n",
    "import blitzbeaver as bb"
   ]
  },
  {
   "cell_type": "code",
   "execution_count": 4,
   "metadata": {},
   "outputs": [],
   "source": [
    "csv_path = \"/home/plouc314/Documents/epfl/ma1/shs/project/data/csv\"\n",
    "\n",
    "dataframes = [\n",
    "    pl.read_csv(f\"{csv_path}/1805.csv\"),\n",
    "    pl.read_csv(f\"{csv_path}/1806.csv\"),\n",
    "    pl.read_csv(f\"{csv_path}/1807.csv\"),\n",
    "]"
   ]
  },
  {
   "cell_type": "code",
   "execution_count": 2,
   "metadata": {},
   "outputs": [],
   "source": [
    "# load the graph from a .beaver file\n",
    "path_graph = \"../graph.beaver\"\n",
    "\n",
    "graph = bb.TrackingGraph.load(path_graph)"
   ]
  },
  {
   "cell_type": "code",
   "execution_count": 3,
   "metadata": {},
   "outputs": [],
   "source": [
    "record_schema = bb.RecordSchema(\n",
    "    [\n",
    "        bb.FieldSchema(\"chef_prenom_norm\", bb.ElementType.String),\n",
    "        bb.FieldSchema(\"chef_nom_norm\", bb.ElementType.String),\n",
    "    ]\n",
    ")"
   ]
  },
  {
   "cell_type": "code",
   "execution_count": 4,
   "metadata": {},
   "outputs": [],
   "source": [
    "config = bb.TrackingConfig(\n",
    "    tracker=bb.TrackerConfig(\n",
    "        tracker_type=\"simple\",\n",
    "        simple_tracker=bb.SimpleTrackerConfig(\n",
    "            interest_threshold=0.7,\n",
    "        ),\n",
    "    ),\n",
    "    distance_metric=bb.DistanceMetricConfig(\n",
    "        metric=\"lvopti\",\n",
    "        caching_threshold=4,\n",
    "    ),\n",
    "    resolver=bb.ResolverConfig(\n",
    "        resolving_strategy=\"simple\",\n",
    "    ),\n",
    ")"
   ]
  },
  {
   "cell_type": "code",
   "execution_count": 5,
   "metadata": {},
   "outputs": [],
   "source": [
    "# compute the graph\n",
    "graph = bb.test_tracking_engine(config, record_schema, dataframes)\n",
    "graph = bb.TrackingGraph(graph)"
   ]
  },
  {
   "cell_type": "code",
   "execution_count": 9,
   "metadata": {},
   "outputs": [],
   "source": [
    "path_graph = \"../graph.beaver\"\n",
    "\n",
    "graph.save(path_graph)"
   ]
  },
  {
   "cell_type": "code",
   "execution_count": 5,
   "metadata": {},
   "outputs": [
    {
     "data": {
      "text/html": [
       "<div><style>\n",
       ".dataframe > thead > tr,\n",
       ".dataframe > tbody > tr {\n",
       "  text-align: right;\n",
       "  white-space: pre-wrap;\n",
       "}\n",
       "</style>\n",
       "<small>shape: (3, 39)</small><table border=\"1\" class=\"dataframe\"><thead><tr><th>nom_rue</th><th>nom_rue_htr_corr</th><th>nom_rue_norm</th><th>no_maison</th><th>proprietaire_nom</th><th>proprietaire_nom_corr</th><th>proprietaire_nom_htr_corr</th><th>proprietaire_nom_norm</th><th>chef_prenom</th><th>chef_prenom_htr_corr</th><th>chef_prenom_norm</th><th>chef_nom</th><th>chef_nom_corr</th><th>chef_nom_htr_corr</th><th>chef_nom_norm</th><th>chef_annee_naissance</th><th>epouse_nom</th><th>epouse_nom_corr</th><th>epouse_nom_htr_corr</th><th>epouse_nom_norm</th><th>epouse_annee_naissance</th><th>fils_prenom</th><th>fils_annee_naissance</th><th>filles_prenom</th><th>filles_annee_naissance</th><th>chef_origine</th><th>chef_origine_corr</th><th>chef_origine_htr_corr</th><th>chef_origine_norm</th><th>chef_annee_arrivee</th><th>chef_vocation</th><th>chef_vocation_top_terms</th><th>chef_vocation_htr_corr</th><th>chef_vocation_norm</th><th>nb_domestiques</th><th>nb_ouvriers</th><th>nb_pensionnaires</th><th>observations</th><th>Page</th></tr><tr><td>str</td><td>str</td><td>str</td><td>str</td><td>str</td><td>str</td><td>str</td><td>str</td><td>str</td><td>str</td><td>str</td><td>str</td><td>str</td><td>str</td><td>str</td><td>str</td><td>str</td><td>str</td><td>str</td><td>str</td><td>str</td><td>str</td><td>str</td><td>str</td><td>str</td><td>str</td><td>str</td><td>str</td><td>str</td><td>str</td><td>str</td><td>str</td><td>str</td><td>str</td><td>str</td><td>str</td><td>str</td><td>str</td><td>i64</td></tr></thead><tbody><tr><td>&quot;jn pierre&quot;</td><td>&quot;jn pierre&quot;</td><td>&quot;jean pierre&quot;</td><td>&quot;1&quot;</td><td>&quot;roguerol&quot;</td><td>&quot;roqueirol&quot;</td><td>&quot;roqueirol&quot;</td><td>&quot;roqueirol&quot;</td><td>&quot;damsan&quot;</td><td>&quot;damsan&quot;</td><td>&quot;damsan&quot;</td><td>&quot;roguerol&quot;</td><td>&quot;roqueirol&quot;</td><td>&quot;roqueirol&quot;</td><td>&quot;roqueirol&quot;</td><td>&quot;1756&quot;</td><td>&quot;·&quot;</td><td>&quot;·&quot;</td><td>&quot;·&quot;</td><td>&quot;·&quot;</td><td>&quot;·&quot;</td><td>&quot;·&quot;</td><td>&quot;·&quot;</td><td>&quot;·&quot;</td><td>&quot;·&quot;</td><td>&quot;des lausanne&quot;</td><td>&quot;des lausanne&quot;</td><td>&quot;des lausanne&quot;</td><td>&quot;des lausanne&quot;</td><td>&quot;nee&quot;</td><td>&quot;municipal&quot;</td><td>&quot;municipal&quot;</td><td>&quot;municipal&quot;</td><td>&quot;municipal&quot;</td><td>&quot;·&quot;</td><td>&quot;·&quot;</td><td>&quot;2&quot;</td><td>&quot;·&quot;</td><td>1</td></tr><tr><td>&quot;st pierre&quot;</td><td>&quot;st pierre&quot;</td><td>&quot;st pierre&quot;</td><td>&quot;1&quot;</td><td>&quot;rogueirl&quot;</td><td>&quot;rogueirl&quot;</td><td>&quot;rogueirl&quot;</td><td>&quot;rogueirl&quot;</td><td>&quot;samson&quot;</td><td>&quot;samson&quot;</td><td>&quot;samson&quot;</td><td>&quot;roguerol&quot;</td><td>&quot;roqueirol&quot;</td><td>&quot;roqueirol&quot;</td><td>&quot;roqueirol&quot;</td><td>&quot;1756&quot;</td><td>&quot;·&quot;</td><td>&quot;·&quot;</td><td>&quot;·&quot;</td><td>&quot;·&quot;</td><td>&quot;·&quot;</td><td>&quot;·&quot;</td><td>&quot;·&quot;</td><td>&quot;·&quot;</td><td>&quot;·&quot;</td><td>&quot;de lausanne&quot;</td><td>&quot;de lausanne&quot;</td><td>&quot;de lausanne&quot;</td><td>&quot;de lausanne&quot;</td><td>&quot;ne&quot;</td><td>&quot;munieipal&quot;</td><td>&quot;munieipal&quot;</td><td>&quot;munieipal&quot;</td><td>&quot;munieipal&quot;</td><td>&quot;1&quot;</td><td>&quot;·&quot;</td><td>&quot;·&quot;</td><td>&quot;·&quot;</td><td>1</td></tr><tr><td>&quot;st pierre&quot;</td><td>&quot;st pierre&quot;</td><td>&quot;st pierre&quot;</td><td>&quot;1&quot;</td><td>&quot;roguerrol&quot;</td><td>&quot;roguerrol&quot;</td><td>&quot;roguerrol&quot;</td><td>&quot;roguerrol&quot;</td><td>&quot;famson&quot;</td><td>&quot;famson&quot;</td><td>&quot;famson&quot;</td><td>&quot;roguerol&quot;</td><td>&quot;roqueirol&quot;</td><td>&quot;roqueirol&quot;</td><td>&quot;roqueirol&quot;</td><td>&quot;1736&quot;</td><td>&quot;·&quot;</td><td>&quot;·&quot;</td><td>&quot;·&quot;</td><td>&quot;·&quot;</td><td>&quot;·&quot;</td><td>&quot;·&quot;</td><td>&quot;·&quot;</td><td>&quot;·&quot;</td><td>&quot;·&quot;</td><td>&quot;de lausane&quot;</td><td>&quot;de lausane&quot;</td><td>&quot;de lausane&quot;</td><td>&quot;de lausane&quot;</td><td>&quot;ne&quot;</td><td>&quot;munieipal&quot;</td><td>&quot;munieipal&quot;</td><td>&quot;munieipal&quot;</td><td>&quot;munieipal&quot;</td><td>&quot;1&quot;</td><td>&quot;en&quot;</td><td>&quot;2&quot;</td><td>&quot;peis premr&quot;</td><td>1</td></tr></tbody></table></div>"
      ],
      "text/plain": [
       "shape: (3, 39)\n",
       "┌───────────┬────────────┬────────────┬───────────┬───┬────────────┬────────────┬───────────┬──────┐\n",
       "│ nom_rue   ┆ nom_rue_ht ┆ nom_rue_no ┆ no_maison ┆ … ┆ nb_ouvrier ┆ nb_pension ┆ observati ┆ Page │\n",
       "│ ---       ┆ r_corr     ┆ rm         ┆ ---       ┆   ┆ s          ┆ naires     ┆ ons       ┆ ---  │\n",
       "│ str       ┆ ---        ┆ ---        ┆ str       ┆   ┆ ---        ┆ ---        ┆ ---       ┆ i64  │\n",
       "│           ┆ str        ┆ str        ┆           ┆   ┆ str        ┆ str        ┆ str       ┆      │\n",
       "╞═══════════╪════════════╪════════════╪═══════════╪═══╪════════════╪════════════╪═══════════╪══════╡\n",
       "│ jn pierre ┆ jn pierre  ┆ jean       ┆ 1         ┆ … ┆ ·          ┆ 2          ┆ ·         ┆ 1    │\n",
       "│           ┆            ┆ pierre     ┆           ┆   ┆            ┆            ┆           ┆      │\n",
       "│ st pierre ┆ st pierre  ┆ st pierre  ┆ 1         ┆ … ┆ ·          ┆ ·          ┆ ·         ┆ 1    │\n",
       "│ st pierre ┆ st pierre  ┆ st pierre  ┆ 1         ┆ … ┆ en         ┆ 2          ┆ peis      ┆ 1    │\n",
       "│           ┆            ┆            ┆           ┆   ┆            ┆            ┆ premr     ┆      │\n",
       "└───────────┴────────────┴────────────┴───────────┴───┴────────────┴────────────┴───────────┴──────┘"
      ]
     },
     "execution_count": 5,
     "metadata": {},
     "output_type": "execute_result"
    }
   ],
   "source": [
    "chain_id = graph._raw.root.outs[0][0]\n",
    "\n",
    "graph.materialize_tracking_chain(chain_id, dataframes)"
   ]
  },
  {
   "cell_type": "code",
   "execution_count": 6,
   "metadata": {},
   "outputs": [
    {
     "name": "stdout",
     "output_type": "stream",
     "text": [
      "EvalMetricChainLength(average=2.4358199, median=3, max=3, min=1)\n",
      "EvalMetricGraphProperties(match_ratios=[0, 0.6256775, 0.49016282], conflict_ratios=[0, 0.10060976, 0.118385345])\n"
     ]
    }
   ],
   "source": [
    "chain_metrics = bb.evaluate_tracking_chain_length(graph._raw)\n",
    "print(chain_metrics)\n",
    "\n",
    "graph_metrics = bb.evaluate_tracking_graph_properties(graph._raw)\n",
    "print(graph_metrics)"
   ]
  },
  {
   "cell_type": "code",
   "execution_count": null,
   "metadata": {},
   "outputs": [],
   "source": []
  }
 ],
 "metadata": {
  "kernelspec": {
   "display_name": ".venv",
   "language": "python",
   "name": "python3"
  },
  "language_info": {
   "codemirror_mode": {
    "name": "ipython",
    "version": 3
   },
   "file_extension": ".py",
   "mimetype": "text/x-python",
   "name": "python",
   "nbconvert_exporter": "python",
   "pygments_lexer": "ipython3",
   "version": "3.11.11"
  }
 },
 "nbformat": 4,
 "nbformat_minor": 2
}
